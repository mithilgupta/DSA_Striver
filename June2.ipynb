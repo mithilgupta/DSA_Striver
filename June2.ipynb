{
 "cells": [
  {
   "cell_type": "markdown",
   "id": "b44691a3-a60a-4d14-be49-f9218adc9190",
   "metadata": {},
   "source": [
    "# Cycle in Linked List"
   ]
  },
  {
   "cell_type": "code",
   "execution_count": 83,
   "id": "07c0be21-1f26-46c1-87a9-8c8cd78ed19c",
   "metadata": {},
   "outputs": [],
   "source": [
    "class Node:\n",
    "    def __init__(self, value, next = None):\n",
    "        self.value = value\n",
    "        self.next = next\n",
    "\n",
    "class LinkedList:\n",
    "    def __init__(self):\n",
    "        self.head = None\n",
    "\n",
    "    # Append at the starting\n",
    "    def push(self, new_data):\n",
    "        new_node = Node(new_data)\n",
    "        new_node.next = self.head\n",
    "        self.head = new_node\n",
    "        \n",
    "    # Display the entire linked List\n",
    "    def display(self):\n",
    "        node = self.head\n",
    "        while node.next :\n",
    "            print(node.value)\n",
    "            node = node.next\n",
    "        print (node.value)\n",
    "\n",
    "    def hasCycle(self):\n",
    "        node = self.head\n",
    "        if node.next == None:\n",
    "            return False\n",
    "    \n",
    "        slow = self.head\n",
    "        fast = self.head\n",
    "    \n",
    "        while fast is not None and fast.next.next is not None:\n",
    "            print(slow.value)\n",
    "            print(fast.value)\n",
    "            print(\"\\n\")\n",
    "\n",
    "            # if slow.value == fast.value and slow.next == fast.next:\n",
    "            #     return True\n",
    "    \n",
    "            slow = slow.next\n",
    "            fast = fast.next.next\n",
    "\n",
    "            if slow.value == fast.value and slow.next == fast.next:\n",
    "                return True\n",
    "        \n",
    "        return False\n",
    "\n",
    "\n",
    "    def hasCycle2(self):\n",
    "        head = self.head\n",
    "        slow, fast = head, head\n",
    "\n",
    "        while fast is not None and fast.next is not None:\n",
    "            slow = slow.next\n",
    "            fast = fast.next.next\n",
    "\n",
    "            if slow == fast:\n",
    "                return True\n",
    "\n",
    "        return False\n",
    "\n",
    "    def findMiddle(self):\n",
    "        head = self.head\n",
    "  \n",
    "        slow, fast = head, head\n",
    "\n",
    "        \n",
    "        while fast is not None and fast.next is not None:\n",
    "            slow = slow.next\n",
    "            fast = fast.next.next\n",
    "\n",
    "        \n",
    "        if fast.next is not None:\n",
    "            slow = slow.next\n",
    "\n",
    "        \n",
    "        return slow.value\n",
    "\n",
    "\n",
    "\n"
   ]
  },
  {
   "cell_type": "code",
   "execution_count": 86,
   "id": "beb6eb3d-98a3-45b6-9dff-96f0be587f18",
   "metadata": {},
   "outputs": [],
   "source": [
    "linked_list = LinkedList()\n",
    "# linked_list.push(10)\n",
    "# linked_list.push(9)\n",
    "# linked_list.push(8)\n",
    "# linked_list.push(7)\n",
    "linked_list.push(6)\n",
    "linked_list.push(5)\n",
    "linked_list.push(4)\n",
    "linked_list.push(3)\n",
    "linked_list.push(2)\n",
    "linked_list.push(1)\n",
    "# linked_list.display()"
   ]
  },
  {
   "cell_type": "code",
   "execution_count": null,
   "id": "2d959d60-43ef-4ea0-a99c-5c9b6f2bc0ec",
   "metadata": {},
   "outputs": [],
   "source": []
  },
  {
   "cell_type": "code",
   "execution_count": 87,
   "id": "829a3bcd-53c7-41a3-a88f-e0c5f253cfee",
   "metadata": {},
   "outputs": [
    {
     "ename": "AttributeError",
     "evalue": "'NoneType' object has no attribute 'next'",
     "output_type": "error",
     "traceback": [
      "\u001b[0;31m---------------------------------------------------------------------------\u001b[0m",
      "\u001b[0;31mAttributeError\u001b[0m                            Traceback (most recent call last)",
      "Cell \u001b[0;32mIn[87], line 1\u001b[0m\n\u001b[0;32m----> 1\u001b[0m linked_list\u001b[38;5;241m.\u001b[39mfindMiddle()\n",
      "Cell \u001b[0;32mIn[83], line 73\u001b[0m, in \u001b[0;36mLinkedList.findMiddle\u001b[0;34m(self)\u001b[0m\n\u001b[1;32m     69\u001b[0m     slow \u001b[38;5;241m=\u001b[39m slow\u001b[38;5;241m.\u001b[39mnext\n\u001b[1;32m     70\u001b[0m     fast \u001b[38;5;241m=\u001b[39m fast\u001b[38;5;241m.\u001b[39mnext\u001b[38;5;241m.\u001b[39mnext\n\u001b[0;32m---> 73\u001b[0m \u001b[38;5;28;01mif\u001b[39;00m fast\u001b[38;5;241m.\u001b[39mnext \u001b[38;5;129;01mis\u001b[39;00m \u001b[38;5;129;01mnot\u001b[39;00m \u001b[38;5;28;01mNone\u001b[39;00m:\n\u001b[1;32m     74\u001b[0m     slow \u001b[38;5;241m=\u001b[39m slow\u001b[38;5;241m.\u001b[39mnext\n\u001b[1;32m     77\u001b[0m \u001b[38;5;28;01mreturn\u001b[39;00m slow\u001b[38;5;241m.\u001b[39mvalue\n",
      "\u001b[0;31mAttributeError\u001b[0m: 'NoneType' object has no attribute 'next'"
     ]
    }
   ],
   "source": [
    "linked_list.findMiddle()"
   ]
  },
  {
   "cell_type": "code",
   "execution_count": null,
   "id": "3410e2de-0fa1-4b8e-be73-209f4c2aa49a",
   "metadata": {},
   "outputs": [],
   "source": []
  },
  {
   "cell_type": "code",
   "execution_count": null,
   "id": "98eed0e3-c9b1-4ada-95a9-3a90c690647d",
   "metadata": {},
   "outputs": [],
   "source": []
  },
  {
   "cell_type": "code",
   "execution_count": null,
   "id": "994940a2-781c-40ca-ab47-4a048c3b599a",
   "metadata": {},
   "outputs": [],
   "source": []
  },
  {
   "cell_type": "code",
   "execution_count": null,
   "id": "bb69b684-7c2b-43b0-bb6a-430bd2dcbf15",
   "metadata": {},
   "outputs": [],
   "source": []
  },
  {
   "cell_type": "code",
   "execution_count": null,
   "id": "cd128b72-5c1b-4c13-95a5-06425b08fa21",
   "metadata": {},
   "outputs": [],
   "source": []
  },
  {
   "cell_type": "code",
   "execution_count": null,
   "id": "ceaf13f6-dffc-4cd0-881a-358b60490428",
   "metadata": {},
   "outputs": [],
   "source": []
  },
  {
   "cell_type": "code",
   "execution_count": null,
   "id": "5834ba64-72c3-45b9-a06b-c7e8e44084ec",
   "metadata": {},
   "outputs": [],
   "source": []
  },
  {
   "cell_type": "code",
   "execution_count": null,
   "id": "bda4d4c8-8548-4266-9af3-b28d6062fb22",
   "metadata": {},
   "outputs": [],
   "source": []
  },
  {
   "cell_type": "code",
   "execution_count": null,
   "id": "82d1ab26-fcc5-46f9-b471-b2ccd4fec3b0",
   "metadata": {},
   "outputs": [],
   "source": []
  },
  {
   "cell_type": "code",
   "execution_count": null,
   "id": "70f2d029-521a-4d25-8704-c8303302480f",
   "metadata": {},
   "outputs": [],
   "source": []
  },
  {
   "cell_type": "code",
   "execution_count": null,
   "id": "9a1c93c1-0870-4398-bfc4-444abeb0b097",
   "metadata": {},
   "outputs": [],
   "source": []
  },
  {
   "cell_type": "code",
   "execution_count": null,
   "id": "2eea9146-f724-4f60-89ca-b814944d5c52",
   "metadata": {},
   "outputs": [],
   "source": []
  },
  {
   "cell_type": "code",
   "execution_count": null,
   "id": "3680da1b-8b99-49d4-a636-db3636176ab2",
   "metadata": {},
   "outputs": [],
   "source": []
  },
  {
   "cell_type": "code",
   "execution_count": null,
   "id": "e6de593c-d856-44a4-b2f6-e0a917c02d86",
   "metadata": {},
   "outputs": [],
   "source": []
  },
  {
   "cell_type": "code",
   "execution_count": null,
   "id": "23a8aa8d-d443-4756-a84f-5aec3c8d104e",
   "metadata": {},
   "outputs": [],
   "source": []
  },
  {
   "cell_type": "code",
   "execution_count": null,
   "id": "21ca6b80-ee53-4164-9e35-d2a14bdac1b5",
   "metadata": {},
   "outputs": [],
   "source": []
  },
  {
   "cell_type": "code",
   "execution_count": null,
   "id": "2f01a622-573b-4a09-910c-d8de518769de",
   "metadata": {},
   "outputs": [],
   "source": []
  },
  {
   "cell_type": "code",
   "execution_count": null,
   "id": "bbed9044-9aa8-44d4-9fd7-fa6d5e862db2",
   "metadata": {},
   "outputs": [],
   "source": []
  },
  {
   "cell_type": "code",
   "execution_count": null,
   "id": "ddb21fec-1aa9-4762-a96a-67ac3ab54622",
   "metadata": {},
   "outputs": [],
   "source": []
  },
  {
   "cell_type": "code",
   "execution_count": null,
   "id": "4a3efeae-74f2-4443-8bb0-12a650f06dc5",
   "metadata": {},
   "outputs": [],
   "source": []
  }
 ],
 "metadata": {
  "kernelspec": {
   "display_name": "Python 3 (ipykernel)",
   "language": "python",
   "name": "python3"
  },
  "language_info": {
   "codemirror_mode": {
    "name": "ipython",
    "version": 3
   },
   "file_extension": ".py",
   "mimetype": "text/x-python",
   "name": "python",
   "nbconvert_exporter": "python",
   "pygments_lexer": "ipython3",
   "version": "3.12.3"
  }
 },
 "nbformat": 4,
 "nbformat_minor": 5
}
