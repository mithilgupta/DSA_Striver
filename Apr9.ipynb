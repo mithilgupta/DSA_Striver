{
 "cells": [
  {
   "cell_type": "code",
   "execution_count": null,
   "id": "surrounded-destination",
   "metadata": {},
   "outputs": [],
   "source": []
  },
  {
   "cell_type": "code",
   "execution_count": 18,
   "id": "center-seeking",
   "metadata": {},
   "outputs": [],
   "source": [
    "def countFrequency(n, m, arr):\n",
    "    \n",
    "    output = [0]*n\n",
    "    for i in range(n):\n",
    "        if arr[i] <= n:\n",
    "#             print(arr[i])\n",
    "            output[arr[i]-1] +=1\n",
    "#             print(output)\n",
    "    return(output)"
   ]
  },
  {
   "cell_type": "code",
   "execution_count": 19,
   "id": "activated-second",
   "metadata": {},
   "outputs": [
    {
     "data": {
      "text/plain": [
       "[2, 1, 1, 0, 0, 0]"
      ]
     },
     "execution_count": 19,
     "metadata": {},
     "output_type": "execute_result"
    }
   ],
   "source": [
    "countFrequency( n = 10, m = 14, arr = [1, 3, 1, 9, 2, 7]  )"
   ]
  },
  {
   "cell_type": "code",
   "execution_count": 51,
   "id": "parliamentary-heaven",
   "metadata": {},
   "outputs": [],
   "source": [
    "def getfreq(v):\n",
    "    \n",
    "    freq = {}\n",
    "    for i in range(len(v)):\n",
    "        if v[i] in freq:\n",
    "            freq[v[i]] +=1\n",
    "        else:\n",
    "            freq[v[i]] =1\n",
    "    \n",
    "    max_n = list([k for k,v in freq.items() if v == max(freq.values())])\n",
    "    min_n = list([k for k,v in freq.items() if v == min(freq.values())])\n",
    "    \n",
    "    return min(max_n), min(min_n)\n",
    "    \n",
    "    "
   ]
  },
  {
   "cell_type": "code",
   "execution_count": 52,
   "id": "wanted-bosnia",
   "metadata": {},
   "outputs": [
    {
     "data": {
      "text/plain": [
       "(1, 2)"
      ]
     },
     "execution_count": 52,
     "metadata": {},
     "output_type": "execute_result"
    }
   ],
   "source": [
    "getfreq([1, 2, 3, 1, 1, 4])"
   ]
  },
  {
   "cell_type": "code",
   "execution_count": null,
   "id": "stunning-kidney",
   "metadata": {},
   "outputs": [],
   "source": []
  },
  {
   "cell_type": "code",
   "execution_count": 82,
   "id": "suspended-dinner",
   "metadata": {},
   "outputs": [],
   "source": [
    "def maxFrequency(nums,k):\n",
    "    \n",
    "    max_freq = 1\n",
    "    output_freq = 1\n",
    "    \n",
    "    nums.sort()\n",
    "    \n",
    "#     print(nums)\n",
    "    \n",
    "    nums2 = []\n",
    "    \n",
    "    for i in nums:\n",
    "        nums2.append([i, i+k])\n",
    "        \n",
    "#     print(nums2)\n",
    "    \n",
    "    slot_window = [nums2[0][0],nums2[0][1]]\n",
    "#     print(slot_window)\n",
    "    \n",
    "    for i in range(1,len(nums2)):\n",
    "        if slot_window[1] >= nums2[i][0]:\n",
    "            max_freq +=1\n",
    "            output_freq = max(output_freq,max_freq )\n",
    "            slot_window[0] = max(slot_window[0],nums2[i][0] )\n",
    "            \n",
    "            slot_window[1] = min(slot_window[1],nums2[i][1] )\n",
    "        else:\n",
    "            slot_window[0] = nums2[i][0]\n",
    "            slot_window[1] = nums2[i][1]\n",
    "            max_freq =1\n",
    "            \n",
    "#         print(nums2[i])\n",
    "#         print(slot_window)\n",
    "#         print(max_freq)\n",
    "#         print(\"------\")\n",
    "        \n",
    "    return(output_freq)\n",
    "    "
   ]
  },
  {
   "cell_type": "code",
   "execution_count": 83,
   "id": "distinguished-powell",
   "metadata": {},
   "outputs": [
    {
     "data": {
      "text/plain": [
       "1"
      ]
     },
     "execution_count": 83,
     "metadata": {},
     "output_type": "execute_result"
    }
   ],
   "source": [
    "maxFrequency(nums = [3,9,6], k = 2)"
   ]
  },
  {
   "cell_type": "code",
   "execution_count": null,
   "id": "bridal-semiconductor",
   "metadata": {},
   "outputs": [],
   "source": []
  },
  {
   "cell_type": "code",
   "execution_count": 6,
   "id": "smaller-christmas",
   "metadata": {},
   "outputs": [],
   "source": [
    "# SELECTION SORT\n",
    "\n",
    "\n",
    "def change_min(nums):\n",
    "    \n",
    "    min_ = nums[0]\n",
    "    id_ = 0\n",
    "    \n",
    "    for i in range(len(nums)):\n",
    "        if nums[i]< min_:\n",
    "            min_ = nums[i]\n",
    "            id_ = i\n",
    "        else:\n",
    "            pass\n",
    "    nums[0], nums[id_] = nums[id_],nums[0]\n",
    "    \n",
    "    return(nums)\n",
    "            \n",
    "        \n",
    "        \n",
    "def sel_sort(arr):\n",
    "    output = []\n",
    "    for i in range(len(arr)):\n",
    "        print(arr[i:])\n",
    "\n",
    "        rev = change_min(arr[i:])\n",
    "        print(rev)\n"
   ]
  },
  {
   "cell_type": "code",
   "execution_count": 7,
   "id": "innocent-liechtenstein",
   "metadata": {},
   "outputs": [
    {
     "name": "stdout",
     "output_type": "stream",
     "text": [
      "[13, 46, 24, 52, 20, 9]\n",
      "[9, 46, 24, 52, 20, 13]\n",
      "[46, 24, 52, 20, 9]\n",
      "[9, 24, 52, 20, 46]\n",
      "[24, 52, 20, 9]\n",
      "[9, 52, 20, 24]\n",
      "[52, 20, 9]\n",
      "[9, 20, 52]\n",
      "[20, 9]\n",
      "[9, 20]\n",
      "[9]\n",
      "[9]\n"
     ]
    }
   ],
   "source": [
    "sel_sort([13,46,24,52,20,9])"
   ]
  },
  {
   "cell_type": "code",
   "execution_count": null,
   "id": "mighty-movement",
   "metadata": {},
   "outputs": [],
   "source": []
  },
  {
   "cell_type": "code",
   "execution_count": 16,
   "id": "executive-extraction",
   "metadata": {},
   "outputs": [],
   "source": [
    "def selectionSort(arr):\n",
    "    \n",
    "    for i in range(len(arr)-1):\n",
    "        \n",
    "        min_val = arr[i]\n",
    "        min_ind = i\n",
    "        for j in range(i+1,len(arr) ):\n",
    "#             print(i,j)\n",
    "            if min_val> arr[j]:\n",
    "                min_val = arr[j]\n",
    "                min_ind = j\n",
    "                \n",
    "        \n",
    "        arr[i], arr[min_ind] =    arr[min_ind], arr[i]\n",
    "        \n",
    "#         print(arr)\n",
    "        \n",
    "    return(arr)\n",
    "            \n",
    "            # find the minimum value from 1,2,3\n",
    "            \n",
    "    "
   ]
  },
  {
   "cell_type": "code",
   "execution_count": 17,
   "id": "critical-immunology",
   "metadata": {},
   "outputs": [
    {
     "data": {
      "text/plain": [
       "[-202, -97, -9, -2, 0, 11, 45, 88, 747]"
      ]
     },
     "execution_count": 17,
     "metadata": {},
     "output_type": "execute_result"
    }
   ],
   "source": [
    "selectionSort([-2, 45, 0, 11, -9,88,-97,-202,747])"
   ]
  },
  {
   "cell_type": "code",
   "execution_count": null,
   "id": "realistic-school",
   "metadata": {},
   "outputs": [],
   "source": []
  },
  {
   "cell_type": "code",
   "execution_count": null,
   "id": "recent-shareware",
   "metadata": {},
   "outputs": [],
   "source": []
  },
  {
   "cell_type": "code",
   "execution_count": null,
   "id": "clean-strike",
   "metadata": {},
   "outputs": [],
   "source": []
  },
  {
   "cell_type": "code",
   "execution_count": null,
   "id": "appropriate-disclosure",
   "metadata": {},
   "outputs": [],
   "source": []
  },
  {
   "cell_type": "code",
   "execution_count": null,
   "id": "skilled-prairie",
   "metadata": {},
   "outputs": [],
   "source": []
  },
  {
   "cell_type": "code",
   "execution_count": null,
   "id": "historical-mistress",
   "metadata": {},
   "outputs": [],
   "source": []
  }
 ],
 "metadata": {
  "kernelspec": {
   "display_name": "Python 3",
   "language": "python",
   "name": "python3"
  },
  "language_info": {
   "codemirror_mode": {
    "name": "ipython",
    "version": 3
   },
   "file_extension": ".py",
   "mimetype": "text/x-python",
   "name": "python",
   "nbconvert_exporter": "python",
   "pygments_lexer": "ipython3",
   "version": "3.6.12"
  }
 },
 "nbformat": 4,
 "nbformat_minor": 5
}
