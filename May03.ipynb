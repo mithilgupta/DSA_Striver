{
 "cells": [
  {
   "cell_type": "code",
   "execution_count": null,
   "id": "9cf709f2-b918-44f4-9bc6-10a76270d17c",
   "metadata": {},
   "outputs": [],
   "source": []
  },
  {
   "cell_type": "code",
   "execution_count": 11,
   "id": "fb240121-a450-4a9e-b33e-2915d8764b5f",
   "metadata": {},
   "outputs": [],
   "source": [
    "def setZeroes(matrix):\n",
    "\n",
    "    n = len(matrix)\n",
    "    m = len(matrix[0])\n",
    "    rows = [1]*(n)\n",
    "    cols = [1]*(m)\n",
    "\n",
    "    print(n,m)\n",
    "\n",
    "    for i in range(n):\n",
    "        for j in range(m):\n",
    "            print(i,j,matrix[i][j])\n",
    "\n",
    "            if matrix[i][j] == 0:\n",
    "                rows[i] = 0\n",
    "                cols[j] = 0\n",
    "\n",
    "    print(rows, cols)\n",
    "\n",
    "    \n",
    "    for i in range(n):\n",
    "        for j in range(m):\n",
    "            print(i,j,matrix[i][j])                \n",
    "    "
   ]
  },
  {
   "cell_type": "code",
   "execution_count": 12,
   "id": "604e170d-f3df-4093-a61d-a568e0055dde",
   "metadata": {},
   "outputs": [
    {
     "name": "stdout",
     "output_type": "stream",
     "text": [
      "4 3\n",
      "0 0 1\n",
      "0 1 1\n",
      "0 2 1\n",
      "1 0 1\n",
      "1 1 0\n",
      "1 2 1\n",
      "2 0 1\n",
      "2 1 1\n",
      "2 2 1\n",
      "3 0 1\n",
      "3 1 1\n",
      "3 2 0\n",
      "[1, 0, 1, 0] [1, 0, 0]\n"
     ]
    }
   ],
   "source": [
    "setZeroes([[1,1,1],[1,0,1],[1,1,1], [1,1,0]])"
   ]
  },
  {
   "cell_type": "code",
   "execution_count": null,
   "id": "05cdcba2-6467-4f07-8dc4-f3c2ebce3107",
   "metadata": {},
   "outputs": [],
   "source": []
  },
  {
   "cell_type": "code",
   "execution_count": null,
   "id": "9f9c1cdb-ace5-4fc0-8078-1d24af12d345",
   "metadata": {},
   "outputs": [],
   "source": []
  },
  {
   "cell_type": "code",
   "execution_count": null,
   "id": "0f0a8be8-5ecf-4fc6-ade5-51b1b35dd814",
   "metadata": {},
   "outputs": [],
   "source": []
  },
  {
   "cell_type": "code",
   "execution_count": null,
   "id": "d0e36212-9bab-43f0-991d-c03b934d3418",
   "metadata": {},
   "outputs": [],
   "source": []
  },
  {
   "cell_type": "code",
   "execution_count": null,
   "id": "fd49ae9f-777c-46bc-b8db-964ab9436b5b",
   "metadata": {},
   "outputs": [],
   "source": []
  },
  {
   "cell_type": "code",
   "execution_count": null,
   "id": "26121e15-8d94-4b8a-972e-86ae2ec1ef65",
   "metadata": {},
   "outputs": [],
   "source": []
  },
  {
   "cell_type": "code",
   "execution_count": null,
   "id": "3efcd666-8eb6-4365-a2c4-680a2ae033d4",
   "metadata": {},
   "outputs": [],
   "source": []
  },
  {
   "cell_type": "code",
   "execution_count": null,
   "id": "00342edd-64d0-4779-9de7-86c6ed51b8ae",
   "metadata": {},
   "outputs": [],
   "source": []
  },
  {
   "cell_type": "code",
   "execution_count": null,
   "id": "3724000c-ff9d-4edb-a675-3800d50a31c5",
   "metadata": {},
   "outputs": [],
   "source": []
  },
  {
   "cell_type": "code",
   "execution_count": null,
   "id": "d1f36acc-bcc3-4c25-8590-94c456dcf31b",
   "metadata": {},
   "outputs": [],
   "source": []
  },
  {
   "cell_type": "code",
   "execution_count": null,
   "id": "a2becc38-84d7-4dce-8948-f5a9f1c18123",
   "metadata": {},
   "outputs": [],
   "source": []
  },
  {
   "cell_type": "code",
   "execution_count": null,
   "id": "968d9cf6-426a-4458-9a08-94e70b1dabcf",
   "metadata": {},
   "outputs": [],
   "source": []
  },
  {
   "cell_type": "code",
   "execution_count": null,
   "id": "e4bcf026-1a8d-4d5c-ba7e-a91a6a9df317",
   "metadata": {},
   "outputs": [],
   "source": []
  },
  {
   "cell_type": "code",
   "execution_count": null,
   "id": "03e5fa74-7310-4954-b130-f515fa28d56e",
   "metadata": {},
   "outputs": [],
   "source": []
  },
  {
   "cell_type": "code",
   "execution_count": null,
   "id": "9151ff1b-cb87-40f2-8ab7-f51204926746",
   "metadata": {},
   "outputs": [],
   "source": []
  },
  {
   "cell_type": "code",
   "execution_count": null,
   "id": "31da1f99-7fc6-4ea7-9325-f31fddce52e8",
   "metadata": {},
   "outputs": [],
   "source": []
  },
  {
   "cell_type": "code",
   "execution_count": null,
   "id": "0b969c9f-02e3-4149-a980-ddcdf863b89a",
   "metadata": {},
   "outputs": [],
   "source": []
  },
  {
   "cell_type": "code",
   "execution_count": null,
   "id": "2cec5671-4b31-4be7-9100-fbd15bbf971d",
   "metadata": {},
   "outputs": [],
   "source": []
  }
 ],
 "metadata": {
  "kernelspec": {
   "display_name": "Python 3 (ipykernel)",
   "language": "python",
   "name": "python3"
  },
  "language_info": {
   "codemirror_mode": {
    "name": "ipython",
    "version": 3
   },
   "file_extension": ".py",
   "mimetype": "text/x-python",
   "name": "python",
   "nbconvert_exporter": "python",
   "pygments_lexer": "ipython3",
   "version": "3.8.19"
  }
 },
 "nbformat": 4,
 "nbformat_minor": 5
}
