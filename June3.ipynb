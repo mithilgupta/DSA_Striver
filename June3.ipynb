{
 "cells": [
  {
   "cell_type": "markdown",
   "id": "843a83ff-bf87-49f5-a003-ce115da515c1",
   "metadata": {},
   "source": [
    "# Two Pointer"
   ]
  },
  {
   "cell_type": "code",
   "execution_count": null,
   "id": "35ee84df-816f-4068-98cc-d2e97c73da23",
   "metadata": {},
   "outputs": [],
   "source": []
  },
  {
   "cell_type": "markdown",
   "id": "e65dac8a-cf85-431a-b381-85f9629e5b75",
   "metadata": {},
   "source": [
    "## Pair with Target Sum (easy)"
   ]
  },
  {
   "cell_type": "code",
   "execution_count": 1,
   "id": "ee160292-c073-4ca1-b81d-fe9c78e52668",
   "metadata": {},
   "outputs": [],
   "source": [
    "def search(arr, target_sum):\n",
    "    l, r = 0, len(arr)-1\n",
    "\n",
    "    while l < r:\n",
    "        if arr[l]+arr[r]< target_sum:\n",
    "            l+=1\n",
    "        elif arr[l]+arr[r]> target_sum:\n",
    "            r-=1\n",
    "        else:\n",
    "            return [l,r]\n",
    "    "
   ]
  },
  {
   "cell_type": "code",
   "execution_count": 3,
   "id": "35b82a39-6fa6-45ef-a9c5-448930d93341",
   "metadata": {},
   "outputs": [
    {
     "data": {
      "text/plain": [
       "[1, 3]"
      ]
     },
     "execution_count": 3,
     "metadata": {},
     "output_type": "execute_result"
    }
   ],
   "source": [
    "search([1, 2, 3, 4, 6], target_sum=6)"
   ]
  },
  {
   "cell_type": "code",
   "execution_count": null,
   "id": "ee1bcf30-6077-40e3-af8f-32e1182b12aa",
   "metadata": {},
   "outputs": [],
   "source": []
  },
  {
   "cell_type": "markdown",
   "id": "1598a96b-111d-4f09-a3f9-2ec29ba4f92d",
   "metadata": {},
   "source": [
    "## Find Non-Duplicate Number Instances (easy)"
   ]
  },
  {
   "cell_type": "code",
   "execution_count": 13,
   "id": "d990e694-7105-4b02-abe6-146912b9ef5d",
   "metadata": {},
   "outputs": [],
   "source": [
    "def moveElements(arr):\n",
    "    # just getting the count\n",
    "    # if len(arr) < 1:\n",
    "    #     return 0\n",
    "        \n",
    "    # cnt = 1\n",
    "    \n",
    "    # for i in range(1,len(arr)):\n",
    "    #     if arr[i] >arr[i-1]:\n",
    "    #         cnt+=1\n",
    "    # return cnt\n",
    "\n",
    "\n",
    "    # Moving them to the beginning of the array as well\n",
    "\n",
    "    cnt = 1\n",
    "    l = 0\n",
    "\n",
    "    for i in range(1,len(arr)):\n",
    "        if arr[i] != arr[l]:\n",
    "            l+=1\n",
    "            if l < i:\n",
    "                arr[i], arr[l] = arr[l], arr[i]\n",
    "    return l+1\n",
    "            \n",
    "        \n",
    "    \n",
    "    \n",
    "    "
   ]
  },
  {
   "cell_type": "code",
   "execution_count": 15,
   "id": "bc1b86bf-a2c8-4596-a061-8d413f378cc3",
   "metadata": {},
   "outputs": [
    {
     "data": {
      "text/plain": [
       "([2, 11, 2, 2], 2)"
      ]
     },
     "execution_count": 15,
     "metadata": {},
     "output_type": "execute_result"
    }
   ],
   "source": [
    "moveElements([2, 2, 2, 11])"
   ]
  },
  {
   "cell_type": "code",
   "execution_count": null,
   "id": "23c4352b-e802-492c-a0c0-ae550b119dff",
   "metadata": {},
   "outputs": [],
   "source": []
  },
  {
   "cell_type": "markdown",
   "id": "1f9b3dda-5adb-4a5f-a6c2-8df3ec80ece4",
   "metadata": {},
   "source": [
    "## Squaring a Sorted Array (easy)"
   ]
  },
  {
   "cell_type": "code",
   "execution_count": null,
   "id": "4cfb4356-7118-4f60-ad12-2908114f2a01",
   "metadata": {},
   "outputs": [],
   "source": [
    "def makeSquares(self, arr):\n",
    "n = len(arr)\n",
    "squares = [0 for x in range(n)]\n",
    "highestSquareIdx = n - 1\n",
    "left, right = 0, n - 1\n",
    "while left <= right:\n",
    "  leftSquare = arr[left] * arr[left]\n",
    "  rightSquare = arr[right] * arr[right]\n",
    "  if leftSquare > rightSquare:\n",
    "    squares[highestSquareIdx] = leftSquare\n",
    "    left += 1\n",
    "  else:\n",
    "    squares[highestSquareIdx] = rightSquare\n",
    "    right -= 1\n",
    "  highestSquareIdx -= 1\n",
    "\n",
    "return squares"
   ]
  },
  {
   "cell_type": "code",
   "execution_count": null,
   "id": "8376787d-ebfa-402d-a586-a2c7ae2fc977",
   "metadata": {},
   "outputs": [],
   "source": []
  },
  {
   "cell_type": "markdown",
   "id": "2e591286-8dd6-44ff-a8c8-d108095eff76",
   "metadata": {},
   "source": [
    "## Triplet Sum Close to Target (medium)"
   ]
  },
  {
   "cell_type": "code",
   "execution_count": 38,
   "id": "c4c051dc-5759-49bf-8265-9de66d606749",
   "metadata": {},
   "outputs": [],
   "source": [
    "# Not working for some cases.\n",
    "# Some issue with the loops and if else conditions.\n",
    "# Maybe need more practice with pseudo Code?\n",
    "\n",
    "# In the actual answer, they have 2 separate if else conditions. I merged them into 1.\n",
    "\n",
    "def searchTriplet(arr, target):\n",
    "\n",
    "    arr.sort()\n",
    "    # print(arr)\n",
    "\n",
    "    min_ = float(\"inf\")\n",
    "    triplet = float(\"inf\")\n",
    "\n",
    "    for i in range(len(arr)-2):\n",
    "        # print(arr[i])\n",
    "\n",
    "        l = i+1\n",
    "        r = len(arr)-1\n",
    "\n",
    "        while l<r:\n",
    "        \n",
    "            temp_sum = arr[i] + arr[l] + arr[r]\n",
    "            abs_diff = abs(temp_sum-target)\n",
    "\n",
    "            if temp_sum > target:\n",
    "                if min_ >= abs_diff:\n",
    "                    min_ = abs_diff\n",
    "                    triplet = min(triplet, temp_sum)\n",
    "\n",
    "                    \n",
    "                r-=1\n",
    "            else:\n",
    "                if min_ >= abs_diff:\n",
    "                    min_ = abs_diff\n",
    "                    triplet = min(triplet, temp_sum)       \n",
    "                \n",
    "                l+=1\n",
    "\n",
    "    return triplet\n",
    "            \n",
    "\n",
    "    "
   ]
  },
  {
   "cell_type": "code",
   "execution_count": 39,
   "id": "d77be58c-0ee1-407e-b973-b16b29713404",
   "metadata": {},
   "outputs": [
    {
     "data": {
      "text/plain": [
       "4"
      ]
     },
     "execution_count": 39,
     "metadata": {},
     "output_type": "execute_result"
    }
   ],
   "source": [
    "searchTriplet([0, 0, 1, 1, 2, 6], target=5 )"
   ]
  },
  {
   "cell_type": "code",
   "execution_count": null,
   "id": "fe236f70-f7c9-45de-882c-5c7fa0409110",
   "metadata": {},
   "outputs": [],
   "source": []
  },
  {
   "cell_type": "markdown",
   "id": "7dd64046-fee9-4da7-9d44-3c12a5d4090f",
   "metadata": {},
   "source": [
    "## Triplets with Smaller Sum (medium)"
   ]
  },
  {
   "cell_type": "code",
   "execution_count": null,
   "id": "dc550cb8-8018-4485-abc8-d5c72f5f3192",
   "metadata": {},
   "outputs": [],
   "source": [
    "# I can think of doing this with 3 loops.\n",
    "# Which is Brute Force.\n",
    "\n",
    "def searchTriplets(arr, target):\n",
    "\n",
    "    arr.sort()\n",
    "    output = []\n",
    "\n",
    "    for i in range(len(arr)-2):\n",
    "        l = i+1\n",
    "        r = len(arr)-1\n",
    "\n",
    "        while arr[i]+arr[l]+arr[r] > target:\n",
    "            r-=1\n",
    "        \n",
    "    "
   ]
  },
  {
   "cell_type": "code",
   "execution_count": null,
   "id": "bc1c2302-510b-481f-adfc-8ddeb412a3e5",
   "metadata": {},
   "outputs": [],
   "source": [
    "searchTriplets([-1, 4, 2, 1, 3], target=5 )"
   ]
  },
  {
   "cell_type": "code",
   "execution_count": null,
   "id": "47b8d5c1-352a-4bc2-954c-ef9dd0e76a6d",
   "metadata": {},
   "outputs": [],
   "source": []
  },
  {
   "cell_type": "code",
   "execution_count": null,
   "id": "50738f94-a423-4b30-be47-fd4f24c80f7c",
   "metadata": {},
   "outputs": [],
   "source": []
  },
  {
   "cell_type": "code",
   "execution_count": null,
   "id": "f2491801-246f-454a-8bd2-ef32f3062873",
   "metadata": {},
   "outputs": [],
   "source": []
  },
  {
   "cell_type": "code",
   "execution_count": null,
   "id": "ca990b80-ef37-4986-be30-d8c7f0a4c708",
   "metadata": {},
   "outputs": [],
   "source": []
  },
  {
   "cell_type": "code",
   "execution_count": null,
   "id": "e0c2a8c3-f943-4863-b851-6a6a33bd52cb",
   "metadata": {},
   "outputs": [],
   "source": []
  },
  {
   "cell_type": "code",
   "execution_count": null,
   "id": "4b662776-f18c-4ebb-bf6e-737cd48cbed4",
   "metadata": {},
   "outputs": [],
   "source": []
  },
  {
   "cell_type": "code",
   "execution_count": null,
   "id": "53a2f4ac-c532-4880-8abd-1f777a175881",
   "metadata": {},
   "outputs": [],
   "source": []
  },
  {
   "cell_type": "code",
   "execution_count": null,
   "id": "47150c78-a5fe-49ae-ac07-23c5280a7936",
   "metadata": {},
   "outputs": [],
   "source": []
  },
  {
   "cell_type": "code",
   "execution_count": null,
   "id": "e508a601-848b-4fda-928c-1f0cd07646a1",
   "metadata": {},
   "outputs": [],
   "source": []
  },
  {
   "cell_type": "code",
   "execution_count": null,
   "id": "92c8af02-a2bc-454c-bfac-027b5c0d2471",
   "metadata": {},
   "outputs": [],
   "source": []
  },
  {
   "cell_type": "code",
   "execution_count": null,
   "id": "558e933d-6963-45c6-8242-b0c407f387fd",
   "metadata": {},
   "outputs": [],
   "source": []
  },
  {
   "cell_type": "code",
   "execution_count": null,
   "id": "549f8f36-1f78-4916-9066-000a6376cbd1",
   "metadata": {},
   "outputs": [],
   "source": []
  }
 ],
 "metadata": {
  "kernelspec": {
   "display_name": "Python 3 (ipykernel)",
   "language": "python",
   "name": "python3"
  },
  "language_info": {
   "codemirror_mode": {
    "name": "ipython",
    "version": 3
   },
   "file_extension": ".py",
   "mimetype": "text/x-python",
   "name": "python",
   "nbconvert_exporter": "python",
   "pygments_lexer": "ipython3",
   "version": "3.12.3"
  }
 },
 "nbformat": 4,
 "nbformat_minor": 5
}
