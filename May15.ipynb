{
 "cells": [
  {
   "cell_type": "code",
   "execution_count": null,
   "id": "c9350c0e-4951-4b83-a88b-89690145e578",
   "metadata": {},
   "outputs": [],
   "source": []
  },
  {
   "cell_type": "code",
   "execution_count": 22,
   "id": "337bb2c1-6322-42ea-ac2e-9e279871b9e1",
   "metadata": {},
   "outputs": [],
   "source": [
    "def sortColors(nums):\n",
    "\n",
    "    l = 0\n",
    "    r = len(nums)-1\n",
    "\n",
    "    for i in range(len(nums)):\n",
    "        if i<r:\n",
    "            # print(nums[i], r)\n",
    "            if nums[i] == 0:\n",
    "                nums[i], nums[l] = nums[l], nums[i]\n",
    "                l+=1\n",
    "    \n",
    "    \n",
    "            if nums[i] == 2:\n",
    "                nums[i], nums[r] = nums[r], nums[i]\n",
    "                r-=1\n",
    "    \n",
    "    \n",
    "            # print(nums)\n",
    "            # print(\"--------------------\")\n",
    "\n",
    "    return nums\n",
    "            \n",
    "        \n",
    "        \n",
    "    \n",
    "    "
   ]
  },
  {
   "cell_type": "code",
   "execution_count": 24,
   "id": "f01c306a-1ece-4ced-8d1a-5487a2ae3d86",
   "metadata": {},
   "outputs": [
    {
     "name": "stdout",
     "output_type": "stream",
     "text": [
      "2 2\n",
      "[1, 0, 2]\n",
      "--------------------\n"
     ]
    },
    {
     "data": {
      "text/plain": [
       "[1, 0, 2]"
      ]
     },
     "execution_count": 24,
     "metadata": {},
     "output_type": "execute_result"
    }
   ],
   "source": [
    "sortColors([2,0,1])"
   ]
  },
  {
   "cell_type": "code",
   "execution_count": null,
   "id": "ae6f3c5a-06ca-402e-895e-9f94158a0edb",
   "metadata": {},
   "outputs": [],
   "source": []
  },
  {
   "cell_type": "markdown",
   "id": "0c18733a-9711-4325-b1ff-9625d0c3318e",
   "metadata": {},
   "source": [
    "# Rotate Image"
   ]
  },
  {
   "cell_type": "code",
   "execution_count": null,
   "id": "00d93d54-9cad-41e9-8f86-6e17b38d1836",
   "metadata": {},
   "outputs": [],
   "source": []
  },
  {
   "cell_type": "code",
   "execution_count": 47,
   "id": "283159ac-9a12-4190-bab5-c88155256928",
   "metadata": {},
   "outputs": [],
   "source": [
    "def rotate(matrix):\n",
    "    l = 0\n",
    "    r = len(matrix)-1\n",
    "\n",
    "    while l<r:\n",
    "        for i in range(l,r):\n",
    "            print(l,i,r)\n",
    "            matrix[l][i], matrix[i][r], matrix[r][r-i], matrix[r-i][l] = matrix[r-i][l], matrix[l][i], matrix[i][r], matrix[r][r-i]\n",
    "            print(matrix)\n",
    "\n",
    "        l+=1\n",
    "        r-=1\n",
    "\n",
    "    return matrix\n",
    "    \n",
    "    \n",
    "    "
   ]
  },
  {
   "cell_type": "code",
   "execution_count": 48,
   "id": "013dee44-812c-492a-9ea7-8f234eca729d",
   "metadata": {},
   "outputs": [
    {
     "name": "stdout",
     "output_type": "stream",
     "text": [
      "0 0 3\n",
      "[[15, 1, 9, 5], [2, 4, 8, 10], [13, 3, 6, 7], [16, 14, 12, 11]]\n",
      "0 1 3\n",
      "[[15, 13, 9, 5], [2, 4, 8, 1], [12, 3, 6, 7], [16, 14, 10, 11]]\n",
      "0 2 3\n",
      "[[15, 13, 2, 5], [14, 4, 8, 1], [12, 3, 6, 9], [16, 7, 10, 11]]\n",
      "1 1 2\n",
      "[[15, 13, 2, 5], [14, 3, 4, 1], [12, 8, 6, 9], [16, 7, 10, 11]]\n"
     ]
    },
    {
     "data": {
      "text/plain": [
       "[[15, 13, 2, 5], [14, 3, 4, 1], [12, 8, 6, 9], [16, 7, 10, 11]]"
      ]
     },
     "execution_count": 48,
     "metadata": {},
     "output_type": "execute_result"
    }
   ],
   "source": [
    "rotate([[5,1,9,11],[2,4,8,10],[13,3,6,7],[15,14,12,16]])"
   ]
  },
  {
   "cell_type": "code",
   "execution_count": null,
   "id": "9934f3f7-6b7f-4241-b4f1-e5cdd3de477b",
   "metadata": {},
   "outputs": [],
   "source": []
  },
  {
   "cell_type": "markdown",
   "id": "74802b69-8133-46bf-9435-18494d499f75",
   "metadata": {},
   "source": [
    "# Spiral Output"
   ]
  },
  {
   "cell_type": "code",
   "execution_count": 57,
   "id": "90ecbc6b-893a-46e3-bbbf-f54aeec39672",
   "metadata": {},
   "outputs": [],
   "source": [
    "def spiralOrder(matrix):\n",
    "\n",
    "    ans = []\n",
    "\n",
    "\n",
    "    l = 0\n",
    "    t = 0\n",
    "    b = len(matrix)-1\n",
    "    r = len(matrix[0])-1\n",
    "\n",
    "\n",
    "    while l<=r and t<=b:\n",
    "        for i in range(l,r+1):\n",
    "            ans.append(matrix[t][i])\n",
    "\n",
    "        t+=1\n",
    "\n",
    "        for i in range(t,b+1):\n",
    "            ans.append(matrix[i][r])\n",
    "\n",
    "        r -=1\n",
    "\n",
    "\n",
    "        for i in range(r, l-1, -1):\n",
    "            ans.append(matrix[b][i])\n",
    "\n",
    "        b-=1\n",
    "\n",
    "\n",
    "        for i in range(b,t-1,-1):\n",
    "            ans.append(matrix[i][l])\n",
    "\n",
    "        l+=1\n",
    "\n",
    "\n",
    "    return ans\n",
    "    \n",
    "    "
   ]
  },
  {
   "cell_type": "code",
   "execution_count": 58,
   "id": "8e414394-54fc-41d2-9e56-44494b61148e",
   "metadata": {},
   "outputs": [
    {
     "data": {
      "text/plain": [
       "[1, 2, 3, 4, 8, 12, 16, 15, 14, 13, 9, 5, 6, 7, 11, 10]"
      ]
     },
     "execution_count": 58,
     "metadata": {},
     "output_type": "execute_result"
    }
   ],
   "source": [
    "spiralOrder([[1, 2, 3, 4],\n",
    "       [5, 6, 7, 8],\n",
    "       [9, 10, 11, 12],\n",
    "       [13, 14, 15, 16]])"
   ]
  },
  {
   "cell_type": "code",
   "execution_count": null,
   "id": "d53cf269-6068-4a58-bba0-2cd73291eb72",
   "metadata": {},
   "outputs": [],
   "source": []
  },
  {
   "cell_type": "code",
   "execution_count": null,
   "id": "525d8227-f0d4-4354-9315-bbb73dc1a439",
   "metadata": {},
   "outputs": [],
   "source": []
  },
  {
   "cell_type": "code",
   "execution_count": null,
   "id": "c149b3d9-06d7-47ab-a2d2-321f1e735be1",
   "metadata": {},
   "outputs": [],
   "source": []
  },
  {
   "cell_type": "code",
   "execution_count": null,
   "id": "b2cac532-0f3e-4097-b275-2d58c1f67bcb",
   "metadata": {},
   "outputs": [],
   "source": []
  },
  {
   "cell_type": "code",
   "execution_count": null,
   "id": "4d4b8a2e-9e49-4561-900b-6b77ddadb995",
   "metadata": {},
   "outputs": [],
   "source": []
  },
  {
   "cell_type": "code",
   "execution_count": null,
   "id": "821515e9-2b61-431d-84ee-471bd4ea9ef7",
   "metadata": {},
   "outputs": [],
   "source": []
  },
  {
   "cell_type": "code",
   "execution_count": null,
   "id": "75f2fe92-f39a-464c-8599-249ed02883d7",
   "metadata": {},
   "outputs": [],
   "source": []
  },
  {
   "cell_type": "code",
   "execution_count": null,
   "id": "bc6b028d-dc6e-41ac-9ed0-de7e690147c4",
   "metadata": {},
   "outputs": [],
   "source": []
  },
  {
   "cell_type": "code",
   "execution_count": null,
   "id": "f104fe82-141d-4a4c-b6dc-86e3b58f61e7",
   "metadata": {},
   "outputs": [],
   "source": []
  }
 ],
 "metadata": {
  "kernelspec": {
   "display_name": "Python 3 (ipykernel)",
   "language": "python",
   "name": "python3"
  },
  "language_info": {
   "codemirror_mode": {
    "name": "ipython",
    "version": 3
   },
   "file_extension": ".py",
   "mimetype": "text/x-python",
   "name": "python",
   "nbconvert_exporter": "python",
   "pygments_lexer": "ipython3",
   "version": "3.8.19"
  }
 },
 "nbformat": 4,
 "nbformat_minor": 5
}
