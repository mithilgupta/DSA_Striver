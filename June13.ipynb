{
 "cells": [
  {
   "cell_type": "markdown",
   "id": "0fd29a7a-e18a-412a-8331-e410e25ca053",
   "metadata": {},
   "source": [
    "# Happy Number"
   ]
  },
  {
   "cell_type": "code",
   "execution_count": 7,
   "id": "b88b7acc-c3cd-48bc-b49c-ce2ea1bc4464",
   "metadata": {},
   "outputs": [],
   "source": [
    "def dig_sq(num):\n",
    "    _sum = 0\n",
    "    while (num > 0):\n",
    "      digit = num % 10\n",
    "      _sum += digit * digit\n",
    "      num //= 10\n",
    "    return _sum\n",
    "\n",
    "\n",
    "def find(num):\n",
    "\n",
    "    slow = num\n",
    "    fast = num\n",
    "    \n",
    "    while True:\n",
    "        slow = dig_sq(slow)\n",
    "        fast = dig_sq(dig_sq(fast))\n",
    "\n",
    "        if slow == fast:\n",
    "            break\n",
    "\n",
    "    if slow == 1:\n",
    "        return True\n",
    "    else:\n",
    "        return False\n"
   ]
  },
  {
   "cell_type": "code",
   "execution_count": 9,
   "id": "1329b654-9100-4e4a-94d1-5f7b13e3c1be",
   "metadata": {},
   "outputs": [
    {
     "data": {
      "text/plain": [
       "False"
      ]
     },
     "execution_count": 9,
     "metadata": {},
     "output_type": "execute_result"
    }
   ],
   "source": [
    "find(12)"
   ]
  },
  {
   "cell_type": "code",
   "execution_count": null,
   "id": "a0bfd330-3dfd-4efe-b915-eac97e89b0e9",
   "metadata": {},
   "outputs": [],
   "source": []
  },
  {
   "cell_type": "markdown",
   "id": "ea1853ab-02df-4fa3-ab58-45a782b00a70",
   "metadata": {},
   "source": [
    "# Reverse a Sub Index"
   ]
  },
  {
   "cell_type": "code",
   "execution_count": null,
   "id": "3f7d5c4e-33a6-46de-89eb-299acc4c6567",
   "metadata": {},
   "outputs": [],
   "source": [
    "def revere_idx(p,q):\n",
    "    "
   ]
  },
  {
   "cell_type": "code",
   "execution_count": null,
   "id": "61964198-cff8-43a8-8e5d-8b5124ffd97c",
   "metadata": {},
   "outputs": [],
   "source": []
  },
  {
   "cell_type": "code",
   "execution_count": null,
   "id": "54bc2d04-b1c5-40a7-a694-5b24b6be57d0",
   "metadata": {},
   "outputs": [],
   "source": []
  },
  {
   "cell_type": "code",
   "execution_count": null,
   "id": "1dac05ce-4969-43ac-b541-fe82eea4c832",
   "metadata": {},
   "outputs": [],
   "source": []
  },
  {
   "cell_type": "code",
   "execution_count": null,
   "id": "dec8a1f1-f442-45fb-893c-a6808b28a456",
   "metadata": {},
   "outputs": [],
   "source": []
  },
  {
   "cell_type": "code",
   "execution_count": null,
   "id": "350be9a7-f8e2-496a-a0f0-3f1f7035e564",
   "metadata": {},
   "outputs": [],
   "source": []
  },
  {
   "cell_type": "code",
   "execution_count": null,
   "id": "223fe051-5d7c-491b-946f-49d44b628a74",
   "metadata": {},
   "outputs": [],
   "source": []
  },
  {
   "cell_type": "code",
   "execution_count": null,
   "id": "db39c7cd-4f92-4c88-91be-ed4c269a870d",
   "metadata": {},
   "outputs": [],
   "source": []
  },
  {
   "cell_type": "code",
   "execution_count": null,
   "id": "fafd7d49-81f5-449f-a777-b3cb012e887b",
   "metadata": {},
   "outputs": [],
   "source": []
  },
  {
   "cell_type": "code",
   "execution_count": null,
   "id": "8b1a00ea-2f32-4051-a572-f7a326bc3179",
   "metadata": {},
   "outputs": [],
   "source": []
  },
  {
   "cell_type": "code",
   "execution_count": null,
   "id": "60df43dd-2146-4747-9d3b-2c6d546d5c48",
   "metadata": {},
   "outputs": [],
   "source": []
  },
  {
   "cell_type": "code",
   "execution_count": null,
   "id": "5d4d977b-d5d0-430c-a071-8a1e880b8e59",
   "metadata": {},
   "outputs": [],
   "source": []
  },
  {
   "cell_type": "code",
   "execution_count": null,
   "id": "5695e3f5-da08-4b4f-822f-16141398732e",
   "metadata": {},
   "outputs": [],
   "source": []
  }
 ],
 "metadata": {
  "kernelspec": {
   "display_name": "Python 3 (ipykernel)",
   "language": "python",
   "name": "python3"
  },
  "language_info": {
   "codemirror_mode": {
    "name": "ipython",
    "version": 3
   },
   "file_extension": ".py",
   "mimetype": "text/x-python",
   "name": "python",
   "nbconvert_exporter": "python",
   "pygments_lexer": "ipython3",
   "version": "3.12.3"
  }
 },
 "nbformat": 4,
 "nbformat_minor": 5
}
