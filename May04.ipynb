{
 "cells": [
  {
   "cell_type": "code",
   "execution_count": null,
   "id": "coordinated-platinum",
   "metadata": {},
   "outputs": [],
   "source": []
  },
  {
   "cell_type": "code",
   "execution_count": 22,
   "id": "connected-probability",
   "metadata": {},
   "outputs": [],
   "source": [
    "def subarraySum(nums,k):\n",
    "    \n",
    "    l = 0\n",
    "    \n",
    "    temp_sum = 0\n",
    "    output_count = 0\n",
    "    \n",
    "    for i in range(len(nums)):\n",
    "        temp_sum +=nums[i]\n",
    "        print(nums[i], temp_sum)\n",
    "        \n",
    "        while temp_sum > k and l<i:\n",
    "            temp_sum -= nums[l]\n",
    "            l+=1\n",
    "            \n",
    "        print(nums[l:i+1])\n",
    "        if temp_sum == k:\n",
    "            output_count +=1\n",
    "            \n",
    "        print(\"----\")\n",
    "\n",
    "    return output_count\n",
    "    \n",
    "    \n",
    "    "
   ]
  },
  {
   "cell_type": "code",
   "execution_count": 23,
   "id": "technological-association",
   "metadata": {},
   "outputs": [
    {
     "name": "stdout",
     "output_type": "stream",
     "text": [
      "-1 -1\n",
      "[-1]\n",
      "----\n",
      "-1 -2\n",
      "[-1, -1]\n",
      "----\n",
      "1 -1\n",
      "[-1, -1, 1]\n",
      "----\n"
     ]
    },
    {
     "data": {
      "text/plain": [
       "0"
      ]
     },
     "execution_count": 23,
     "metadata": {},
     "output_type": "execute_result"
    }
   ],
   "source": [
    "subarraySum([-1,-1,1],0)"
   ]
  },
  {
   "cell_type": "code",
   "execution_count": null,
   "id": "optional-mechanism",
   "metadata": {},
   "outputs": [],
   "source": []
  },
  {
   "cell_type": "code",
   "execution_count": 36,
   "id": "shared-shopper",
   "metadata": {},
   "outputs": [],
   "source": [
    "def generate(numRows):\n",
    "    \n",
    "    output = [[1]]\n",
    "    \n",
    "    for i in range(1,numRows):\n",
    "        prev_element = (output[-1])\n",
    "#         print(prev_element)\n",
    "        \n",
    "        temp = [1]\n",
    "        \n",
    "        for j in range(1, len(prev_element)):\n",
    "            ele_sum = prev_element[j]+prev_element[j-1]\n",
    "            temp.append(ele_sum)\n",
    "        temp.append(1)\n",
    "        \n",
    "        output.append(temp)\n",
    "    return(output)\n",
    "        \n",
    "        \n",
    "    \n",
    "    "
   ]
  },
  {
   "cell_type": "code",
   "execution_count": 39,
   "id": "personalized-casting",
   "metadata": {},
   "outputs": [
    {
     "data": {
      "text/plain": [
       "[[1],\n",
       " [1, 1],\n",
       " [1, 2, 1],\n",
       " [1, 3, 3, 1],\n",
       " [1, 4, 6, 4, 1],\n",
       " [1, 5, 10, 10, 5, 1],\n",
       " [1, 6, 15, 20, 15, 6, 1],\n",
       " [1, 7, 21, 35, 35, 21, 7, 1],\n",
       " [1, 8, 28, 56, 70, 56, 28, 8, 1],\n",
       " [1, 9, 36, 84, 126, 126, 84, 36, 9, 1]]"
      ]
     },
     "execution_count": 39,
     "metadata": {},
     "output_type": "execute_result"
    }
   ],
   "source": [
    "generate(10)"
   ]
  },
  {
   "cell_type": "code",
   "execution_count": null,
   "id": "functioning-concept",
   "metadata": {},
   "outputs": [],
   "source": []
  },
  {
   "cell_type": "code",
   "execution_count": null,
   "id": "atomic-interview",
   "metadata": {},
   "outputs": [],
   "source": []
  },
  {
   "cell_type": "code",
   "execution_count": null,
   "id": "hawaiian-robert",
   "metadata": {},
   "outputs": [],
   "source": []
  },
  {
   "cell_type": "code",
   "execution_count": null,
   "id": "turkish-wagon",
   "metadata": {},
   "outputs": [],
   "source": []
  },
  {
   "cell_type": "code",
   "execution_count": null,
   "id": "architectural-fisher",
   "metadata": {},
   "outputs": [],
   "source": []
  },
  {
   "cell_type": "code",
   "execution_count": null,
   "id": "common-television",
   "metadata": {},
   "outputs": [],
   "source": []
  },
  {
   "cell_type": "code",
   "execution_count": null,
   "id": "brutal-rescue",
   "metadata": {},
   "outputs": [],
   "source": []
  },
  {
   "cell_type": "code",
   "execution_count": null,
   "id": "packed-roots",
   "metadata": {},
   "outputs": [],
   "source": []
  },
  {
   "cell_type": "code",
   "execution_count": null,
   "id": "decent-pattern",
   "metadata": {},
   "outputs": [],
   "source": []
  },
  {
   "cell_type": "code",
   "execution_count": null,
   "id": "ongoing-stupid",
   "metadata": {},
   "outputs": [],
   "source": []
  }
 ],
 "metadata": {
  "kernelspec": {
   "display_name": "Python 3",
   "language": "python",
   "name": "python3"
  },
  "language_info": {
   "codemirror_mode": {
    "name": "ipython",
    "version": 3
   },
   "file_extension": ".py",
   "mimetype": "text/x-python",
   "name": "python",
   "nbconvert_exporter": "python",
   "pygments_lexer": "ipython3",
   "version": "3.6.12"
  }
 },
 "nbformat": 4,
 "nbformat_minor": 5
}
