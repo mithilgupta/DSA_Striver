{
 "cells": [
  {
   "cell_type": "markdown",
   "id": "a2a03fd9-ccdb-44cb-88d0-3bd1b6e63cc4",
   "metadata": {},
   "source": [
    "# 229. Majority Element II"
   ]
  },
  {
   "cell_type": "code",
   "execution_count": null,
   "id": "18e95527-d375-4c5e-b475-ee6d6fe7dac3",
   "metadata": {},
   "outputs": [],
   "source": [
    "def maj(nums):\n",
    "    n = len(nums)//3\n",
    "\n",
    "    for i in range(len(nums)):\n",
    "        \n",
    "\n",
    "    "
   ]
  },
  {
   "cell_type": "code",
   "execution_count": null,
   "id": "43235f47-976e-4683-b901-f61b742a6457",
   "metadata": {},
   "outputs": [],
   "source": [
    "maj([3,2,3])"
   ]
  },
  {
   "cell_type": "code",
   "execution_count": 6,
   "id": "8392e90f-4a7f-425d-9484-32dc34f918f7",
   "metadata": {},
   "outputs": [
    {
     "data": {
      "text/plain": [
       "1"
      ]
     },
     "execution_count": 6,
     "metadata": {},
     "output_type": "execute_result"
    }
   ],
   "source": [
    "4//3"
   ]
  },
  {
   "cell_type": "markdown",
   "id": "4b8e77fb-2fe6-471d-a1c5-6c52cd4e3ba1",
   "metadata": {},
   "source": [
    "# ThreeSum"
   ]
  },
  {
   "cell_type": "code",
   "execution_count": null,
   "id": "cd7d9162-9f01-46ab-bc6e-e05b7be762f0",
   "metadata": {},
   "outputs": [],
   "source": []
  },
  {
   "cell_type": "code",
   "execution_count": 30,
   "id": "52e7d6df-1085-4a81-a720-82ba50a2f62e",
   "metadata": {},
   "outputs": [],
   "source": [
    "def threesum(nums):\n",
    "\n",
    "    nums.sort()\n",
    "    output = []\n",
    "\n",
    "    for i in range(len(nums)-2):\n",
    "\n",
    "        if i != 0 and nums[i] == nums[i - 1]:\n",
    "            continue\n",
    "        # print(nums[i])\n",
    "        chk = -nums[i]\n",
    "        l = i+1\n",
    "        r = len(nums)-1\n",
    "        # print(nums[i], nums[l], nums[r])\n",
    "\n",
    "        while l<r:\n",
    "            if nums[l] + nums[r]> chk:\n",
    "                r-=1\n",
    "            elif nums[l] + nums[r]< chk:\n",
    "                l+=1\n",
    "            else:\n",
    "                if [nums[i], nums[l], nums[r]] not in output:\n",
    "                    output.append([nums[i], nums[l], nums[r]])\n",
    "\n",
    "                r-=1\n",
    "        # print(output)\n",
    "    return output\n",
    "            \n",
    "        \n",
    "\n",
    "    \n",
    "    "
   ]
  },
  {
   "cell_type": "code",
   "execution_count": 31,
   "id": "9d160a1b-7a02-48b5-a9cc-6335b6044acb",
   "metadata": {},
   "outputs": [
    {
     "data": {
      "text/plain": [
       "[[-2, 0, 2], [-2, 1, 1]]"
      ]
     },
     "execution_count": 31,
     "metadata": {},
     "output_type": "execute_result"
    }
   ],
   "source": [
    "threesum([-2,0,1,1,2])"
   ]
  },
  {
   "cell_type": "code",
   "execution_count": null,
   "id": "eab87fe5-59a3-499b-9b9c-493e81eb92a5",
   "metadata": {},
   "outputs": [],
   "source": [
    "[-4,-1,-1,0,1,2]"
   ]
  },
  {
   "cell_type": "code",
   "execution_count": null,
   "id": "12297235-1c28-420a-9130-11b549dcd34b",
   "metadata": {},
   "outputs": [],
   "source": []
  },
  {
   "cell_type": "markdown",
   "id": "42dec541-07b1-4289-80e4-7d1f41d095a8",
   "metadata": {},
   "source": [
    "# Longest Subarray with 0 sum"
   ]
  },
  {
   "cell_type": "code",
   "execution_count": null,
   "id": "6771b7ea-0bd1-4c90-a935-eec06036163a",
   "metadata": {},
   "outputs": [],
   "source": []
  },
  {
   "cell_type": "code",
   "execution_count": 61,
   "id": "3df21dcd-5bbf-41fa-82cd-61b8dcab8834",
   "metadata": {},
   "outputs": [],
   "source": [
    "def maxLen(arr,n):\n",
    "    pre = [0]*n\n",
    "    suf = [0]*n\n",
    "\n",
    "    for i in range(n):\n",
    "        # print(arr[i])\n",
    "\n",
    "        if i == 0:\n",
    "            pre[0] = arr[i]\n",
    "        else:\n",
    "            temp = arr[i]+pre[i-1]\n",
    "            pre[i] = temp\n",
    "\n",
    "\n",
    "        if i == 0:\n",
    "            suf[n-i-1] = arr[n-i-1]\n",
    "\n",
    "        else:\n",
    "            temp2 = arr[n-i-1]+suf[n-i]\n",
    "            suf[n-i-1]=temp2\n",
    "        \n",
    "    print(pre)\n",
    "    print(suf)\n",
    "\n",
    "    dic = {}\n",
    "    max_ = 0\n",
    "\n",
    "    for j in range(len(pre)):\n",
    "        if pre[j] not in dic:\n",
    "            dic[pre[j]] = j\n",
    "        else:\n",
    "            print(j)\n",
    "            temp_dif = j-dic[pre[j]]\n",
    "            print(temp_dif)\n",
    "            max_ = max(max_, temp_dif)\n",
    "\n",
    "    return max_ \n",
    "        \n",
    "        \n",
    "    "
   ]
  },
  {
   "cell_type": "code",
   "execution_count": 62,
   "id": "e8624529-b2e2-4f76-8c14-621dd4dc637c",
   "metadata": {},
   "outputs": [
    {
     "name": "stdout",
     "output_type": "stream",
     "text": [
      "[-1, 0, -1, 0]\n",
      "[0, 1, 0, 1]\n",
      "2\n",
      "2\n",
      "3\n",
      "2\n"
     ]
    },
    {
     "data": {
      "text/plain": [
       "2"
      ]
     },
     "execution_count": 62,
     "metadata": {},
     "output_type": "execute_result"
    }
   ],
   "source": [
    "maxLen([-1,1,-1,1],4)\n"
   ]
  },
  {
   "cell_type": "code",
   "execution_count": null,
   "id": "b5c936e0-6078-4da5-9c59-9fa49d647cc5",
   "metadata": {},
   "outputs": [],
   "source": []
  }
 ],
 "metadata": {
  "kernelspec": {
   "display_name": "Python 3 (ipykernel)",
   "language": "python",
   "name": "python3"
  },
  "language_info": {
   "codemirror_mode": {
    "name": "ipython",
    "version": 3
   },
   "file_extension": ".py",
   "mimetype": "text/x-python",
   "name": "python",
   "nbconvert_exporter": "python",
   "pygments_lexer": "ipython3",
   "version": "3.8.19"
  }
 },
 "nbformat": 4,
 "nbformat_minor": 5
}
