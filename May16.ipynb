{
 "cells": [
  {
   "cell_type": "markdown",
   "id": "defe2467",
   "metadata": {},
   "source": [
    "# 229. Majority Element II"
   ]
  },
  {
   "cell_type": "code",
   "execution_count": null,
   "id": "6ea26473",
   "metadata": {},
   "outputs": [],
   "source": [
    "def maj(nums):\n",
    "    n = len(nums)//3\n",
    "\n",
    "    for i in range(len(nums)):\n",
    "        \n",
    "\n",
    "    "
   ]
  },
  {
   "cell_type": "code",
   "execution_count": null,
   "id": "92af6981",
   "metadata": {},
   "outputs": [],
   "source": [
    "maj([3,2,3])"
   ]
  },
  {
   "cell_type": "code",
   "execution_count": 6,
   "id": "d33a57cb",
   "metadata": {},
   "outputs": [
    {
     "data": {
      "text/plain": [
       "1"
      ]
     },
     "execution_count": 6,
     "metadata": {},
     "output_type": "execute_result"
    }
   ],
   "source": [
    "4//3"
   ]
  },
  {
   "cell_type": "markdown",
   "id": "2db2c93c",
   "metadata": {},
   "source": [
    "# ThreeSum"
   ]
  },
  {
   "cell_type": "code",
   "execution_count": null,
   "id": "7d7e0edc",
   "metadata": {},
   "outputs": [],
   "source": []
  },
  {
   "cell_type": "code",
   "execution_count": 30,
   "id": "8b5d5d3c",
   "metadata": {},
   "outputs": [],
   "source": [
    "def threesum(nums):\n",
    "\n",
    "    nums.sort()\n",
    "    output = []\n",
    "\n",
    "    for i in range(len(nums)-2):\n",
    "\n",
    "        if i != 0 and nums[i] == nums[i - 1]:\n",
    "            continue\n",
    "        # print(nums[i])\n",
    "        chk = -nums[i]\n",
    "        l = i+1\n",
    "        r = len(nums)-1\n",
    "        # print(nums[i], nums[l], nums[r])\n",
    "\n",
    "        while l<r:\n",
    "            if nums[l] + nums[r]> chk:\n",
    "                r-=1\n",
    "            elif nums[l] + nums[r]< chk:\n",
    "                l+=1\n",
    "            else:\n",
    "                if [nums[i], nums[l], nums[r]] not in output:\n",
    "                    output.append([nums[i], nums[l], nums[r]])\n",
    "\n",
    "                r-=1\n",
    "        # print(output)\n",
    "    return output\n",
    "            \n",
    "        \n",
    "\n",
    "    \n",
    "    "
   ]
  },
  {
   "cell_type": "code",
   "execution_count": 31,
   "id": "59594a79",
   "metadata": {},
   "outputs": [
    {
     "data": {
      "text/plain": [
       "[[-2, 0, 2], [-2, 1, 1]]"
      ]
     },
     "execution_count": 31,
     "metadata": {},
     "output_type": "execute_result"
    }
   ],
   "source": [
    "threesum([-2,0,1,1,2])"
   ]
  },
  {
   "cell_type": "code",
   "execution_count": null,
   "id": "46d86387",
   "metadata": {},
   "outputs": [],
   "source": [
    "[-4,-1,-1,0,1,2]"
   ]
  },
  {
   "cell_type": "code",
   "execution_count": null,
   "id": "582e2d84",
   "metadata": {},
   "outputs": [],
   "source": []
  },
  {
   "cell_type": "markdown",
   "id": "47b0642a",
   "metadata": {},
   "source": [
    "# Longest Subarray with 0 sum"
   ]
  },
  {
   "cell_type": "code",
   "execution_count": null,
   "id": "55a62bc7",
   "metadata": {},
   "outputs": [],
   "source": []
  },
  {
   "cell_type": "code",
   "execution_count": 61,
   "id": "b9124bc9",
   "metadata": {},
   "outputs": [],
   "source": [
    "def maxLen(arr,n):\n",
    "    pre = [0]*n\n",
    "    suf = [0]*n\n",
    "\n",
    "    for i in range(n):\n",
    "        # print(arr[i])\n",
    "\n",
    "        if i == 0:\n",
    "            pre[0] = arr[i]\n",
    "        else:\n",
    "            temp = arr[i]+pre[i-1]\n",
    "            pre[i] = temp\n",
    "\n",
    "\n",
    "        if i == 0:\n",
    "            suf[n-i-1] = arr[n-i-1]\n",
    "\n",
    "        else:\n",
    "            temp2 = arr[n-i-1]+suf[n-i]\n",
    "            suf[n-i-1]=temp2\n",
    "        \n",
    "    print(pre)\n",
    "    print(suf)\n",
    "\n",
    "    dic = {}\n",
    "    max_ = 0\n",
    "\n",
    "    for j in range(len(pre)):\n",
    "        if pre[j] not in dic:\n",
    "            dic[pre[j]] = j\n",
    "        else:\n",
    "            print(j)\n",
    "            temp_dif = j-dic[pre[j]]\n",
    "            print(temp_dif)\n",
    "            max_ = max(max_, temp_dif)\n",
    "\n",
    "    return max_ \n",
    "        \n",
    "        \n",
    "    "
   ]
  },
  {
   "cell_type": "code",
   "execution_count": 62,
   "id": "3839b7f2",
   "metadata": {},
   "outputs": [
    {
     "name": "stdout",
     "output_type": "stream",
     "text": [
      "[-1, 0, -1, 0]\n",
      "[0, 1, 0, 1]\n",
      "2\n",
      "2\n",
      "3\n",
      "2\n"
     ]
    },
    {
     "data": {
      "text/plain": [
       "2"
      ]
     },
     "execution_count": 62,
     "metadata": {},
     "output_type": "execute_result"
    }
   ],
   "source": [
    "maxLen([-1,1,-1,1],4)\n"
   ]
  },
  {
   "cell_type": "code",
   "execution_count": null,
   "id": "e8e45f16",
   "metadata": {},
   "outputs": [],
   "source": []
  }
 ],
 "metadata": {
  "kernelspec": {
   "display_name": "Python 3 (ipykernel)",
   "language": "python",
   "name": "python3"
  },
  "language_info": {
   "codemirror_mode": {
    "name": "ipython",
    "version": 3
   },
   "file_extension": ".py",
   "mimetype": "text/x-python",
   "name": "python",
   "nbconvert_exporter": "python",
   "pygments_lexer": "ipython3",
   "version": "3.8.18"
  }
 },
 "nbformat": 4,
 "nbformat_minor": 5
}
