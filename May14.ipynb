{
 "cells": [
  {
   "cell_type": "markdown",
   "id": "da97b8e0-879e-4c1e-8629-8aa0c4f61e4a",
   "metadata": {},
   "source": [
    "# GCD"
   ]
  },
  {
   "cell_type": "code",
   "execution_count": 5,
   "id": "2121edfb-5983-43f7-b0d1-962bd5ceb3f0",
   "metadata": {},
   "outputs": [],
   "source": [
    "def gcd(a,b):\n",
    "\n",
    "    temp = min(a,b)\n",
    "    ans = 1\n",
    "\n",
    "    for i in range(temp, 0,-1):\n",
    "        # print(i)\n",
    "        if a%i == 0 and b%i == 0:\n",
    "            ans = i\n",
    "            break\n",
    "\n",
    "    return ans\n",
    "\n",
    "        \n",
    "    "
   ]
  },
  {
   "cell_type": "code",
   "execution_count": 7,
   "id": "47931bd9-de06-437a-a189-b1688b0414a7",
   "metadata": {},
   "outputs": [
    {
     "data": {
      "text/plain": [
       "5"
      ]
     },
     "execution_count": 7,
     "metadata": {},
     "output_type": "execute_result"
    }
   ],
   "source": [
    "gcd(20,15)"
   ]
  },
  {
   "cell_type": "code",
   "execution_count": 9,
   "id": "569c1f28-a26b-4b4b-b4b7-b985b1b7dc9b",
   "metadata": {},
   "outputs": [],
   "source": [
    "def gcd2(a,b):\n",
    "\n",
    "    while a > 0 and b>0:\n",
    "        if a>b:\n",
    "            a = a-b\n",
    "        else:\n",
    "            b = b-a\n",
    "    if a==0:\n",
    "        return b\n",
    "    return a\n",
    "\n",
    "\n",
    "        \n",
    "    "
   ]
  },
  {
   "cell_type": "code",
   "execution_count": 11,
   "id": "c4a607df-b1d6-4101-9674-842af8111911",
   "metadata": {},
   "outputs": [
    {
     "data": {
      "text/plain": [
       "3"
      ]
     },
     "execution_count": 11,
     "metadata": {},
     "output_type": "execute_result"
    }
   ],
   "source": [
    "gcd2(9,6)"
   ]
  },
  {
   "cell_type": "markdown",
   "id": "c8148b8d-1bfd-4f84-b693-70a9ba4b686e",
   "metadata": {},
   "source": [
    "# All divisors"
   ]
  },
  {
   "cell_type": "code",
   "execution_count": null,
   "id": "1267196b-5f3f-4982-aad8-a75e8f2843f9",
   "metadata": {},
   "outputs": [],
   "source": []
  },
  {
   "cell_type": "code",
   "execution_count": 20,
   "id": "eaed8cd4-c9fc-436d-888b-3059b92f5a17",
   "metadata": {},
   "outputs": [],
   "source": [
    "import math\n",
    "def divisors(n):\n",
    "    \n",
    "    output = []\n",
    "    sqrtN = int(math.sqrt(n)) \n",
    "\n",
    "    for i in range(1, sqrtN + 1): \n",
    "        if n % i == 0: \n",
    "            output.append(i) \n",
    "\n",
    "            if n//i not in output:\n",
    "                output.append(n//i)\n",
    "\n",
    "    return output\n",
    "\n",
    "\n",
    "            \n",
    "        \n",
    "    \n",
    "    "
   ]
  },
  {
   "cell_type": "code",
   "execution_count": 21,
   "id": "1b02425b-e3f8-469b-b2b1-acb9f85ea4cb",
   "metadata": {},
   "outputs": [
    {
     "data": {
      "text/plain": [
       "[1, 36, 2, 18, 3, 12, 4, 9, 6]"
      ]
     },
     "execution_count": 21,
     "metadata": {},
     "output_type": "execute_result"
    }
   ],
   "source": [
    "divisors(36)"
   ]
  },
  {
   "cell_type": "code",
   "execution_count": null,
   "id": "a4086fc4-dabb-4a94-817b-4a3a40845002",
   "metadata": {},
   "outputs": [],
   "source": []
  },
  {
   "cell_type": "code",
   "execution_count": null,
   "id": "32602a75-fe1e-4513-838c-8caadaab1c6b",
   "metadata": {},
   "outputs": [],
   "source": []
  },
  {
   "cell_type": "markdown",
   "id": "5d5fd237-4db9-4cd9-bba4-9ea2b58f90bd",
   "metadata": {},
   "source": [
    "# Longest Sub-Array with Sum K"
   ]
  },
  {
   "cell_type": "code",
   "execution_count": null,
   "id": "db545716-a3d5-4ebd-9b54-b7874ee6d8de",
   "metadata": {},
   "outputs": [],
   "source": []
  },
  {
   "cell_type": "code",
   "execution_count": 26,
   "id": "7dd1d810-5c45-4e67-b739-04787d061ad0",
   "metadata": {},
   "outputs": [],
   "source": [
    "def lenOfLongSubarr (arr, n, k):\n",
    "\n",
    "    temp_sum = 0\n",
    "    l = 0\n",
    "    output = 0\n",
    "    \n",
    "    for i in range(n):\n",
    "        temp_sum +=arr[i]\n",
    "\n",
    "        if temp_sum == k:\n",
    "            # print(i-l+1)\n",
    "            output = max(output, i-l+1)\n",
    "        \n",
    "\n",
    "        while temp_sum > k:\n",
    "            temp_sum -= arr[l]\n",
    "            l+=1\n",
    "\n",
    "    return output\n",
    "            \n",
    "    \n",
    "    "
   ]
  },
  {
   "cell_type": "code",
   "execution_count": 27,
   "id": "573de535-5700-4110-b8c2-9be527d8cbd1",
   "metadata": {},
   "outputs": [
    {
     "data": {
      "text/plain": [
       "4"
      ]
     },
     "execution_count": 27,
     "metadata": {},
     "output_type": "execute_result"
    }
   ],
   "source": [
    "lenOfLongSubarr ([10, 5, 2, 7, 1, 9], 6, 15)"
   ]
  },
  {
   "cell_type": "code",
   "execution_count": null,
   "id": "008eb818-ceec-49c9-b07b-3668198d67c0",
   "metadata": {},
   "outputs": [],
   "source": []
  },
  {
   "cell_type": "markdown",
   "id": "81febaee-aec9-4fb1-8567-9a9c030c61ee",
   "metadata": {},
   "source": [
    "# Max profit"
   ]
  },
  {
   "cell_type": "code",
   "execution_count": null,
   "id": "7a4de765-ef1c-432a-8d50-70c5cd1158ef",
   "metadata": {},
   "outputs": [],
   "source": []
  },
  {
   "cell_type": "code",
   "execution_count": 35,
   "id": "68c0dcbc-deb7-4a44-9f61-0af1f76f5593",
   "metadata": {},
   "outputs": [],
   "source": [
    "def maxProfit(prices):\n",
    "\n",
    "    min_ = prices[0]\n",
    "    max_ = 0\n",
    "\n",
    "    for i in range(1,len(prices)):\n",
    "\n",
    "        # print(prices[i])\n",
    "        \n",
    "        min_ = min(min_,prices[i-1])\n",
    "        # print(min)\n",
    "        \n",
    "        # print(prices[i]-min_)\n",
    "        max_= max(max_,prices[i]-min_ )\n",
    "\n",
    "\n",
    "    return max_\n",
    "\n",
    "    "
   ]
  },
  {
   "cell_type": "code",
   "execution_count": 36,
   "id": "113581bc-c24d-44ab-9a0d-f0d05545414f",
   "metadata": {},
   "outputs": [
    {
     "data": {
      "text/plain": [
       "0"
      ]
     },
     "execution_count": 36,
     "metadata": {},
     "output_type": "execute_result"
    }
   ],
   "source": [
    "maxProfit([7,6,4,3,1])"
   ]
  },
  {
   "cell_type": "code",
   "execution_count": null,
   "id": "83436469-019d-4edc-a2df-cc8a70025cf5",
   "metadata": {},
   "outputs": [],
   "source": []
  },
  {
   "cell_type": "markdown",
   "id": "4e91ed31-0434-49cb-8357-5a9de0f4b2ab",
   "metadata": {},
   "source": [
    "# 73. Set Matrix Zeroes"
   ]
  },
  {
   "cell_type": "code",
   "execution_count": null,
   "id": "f86e94a1-5a1c-4c55-9450-3522cea3cf26",
   "metadata": {},
   "outputs": [],
   "source": []
  },
  {
   "cell_type": "code",
   "execution_count": 50,
   "id": "4a9a652a-d6ed-4d61-b296-d5c8a5da3b34",
   "metadata": {},
   "outputs": [],
   "source": [
    "def setZeroes(matrix):\n",
    "\n",
    "    m = [1]*len(matrix) #4 rows\n",
    "    n = [1]*len(matrix[0]) #3 columns\n",
    "\n",
    "\n",
    "    for i in range(len(matrix)):\n",
    "        for j in range(len(matrix[i])):\n",
    "            if matrix[i][j]==0:\n",
    "                m[i] =0\n",
    "                n[j] =0\n",
    "\n",
    "                # print(m)\n",
    "                # print(n)\n",
    "\n",
    "\n",
    "    for x in range(len(m)):\n",
    "        if m[x]==0:  #row 1 me 0 aaya\n",
    "            matrix[x] = [0]*(len(matrix[0]))\n",
    "\n",
    "    # print(matrix)\n",
    "\n",
    "    for y in range(len(n)):\n",
    "        if n[y] == 0:  #column 1 me 0 aaya\n",
    "            for row_ in range(len(matrix)):\n",
    "                # print(matrix[row_][y])\n",
    "                matrix[row_][y] = 0\n",
    "            \n",
    "    return(matrix)\n",
    "\n",
    "    "
   ]
  },
  {
   "cell_type": "code",
   "execution_count": 51,
   "id": "24b3aa9e-9355-4478-b5dc-0ff7c4f2b762",
   "metadata": {},
   "outputs": [
    {
     "data": {
      "text/plain": [
       "[[1, 0, 0], [0, 0, 0], [1, 0, 0], [0, 0, 0]]"
      ]
     },
     "execution_count": 51,
     "metadata": {},
     "output_type": "execute_result"
    }
   ],
   "source": [
    "setZeroes([[1,1,1],[1,0,1],[1,1,1], [1,1,0]])"
   ]
  },
  {
   "cell_type": "code",
   "execution_count": 43,
   "id": "dfda8a17-2468-4a7e-927b-0cd4faaf8943",
   "metadata": {},
   "outputs": [
    {
     "data": {
      "text/plain": [
       "[0, 0, 0]"
      ]
     },
     "execution_count": 43,
     "metadata": {},
     "output_type": "execute_result"
    }
   ],
   "source": [
    "[0]*3"
   ]
  },
  {
   "cell_type": "code",
   "execution_count": null,
   "id": "40f4fb3e-9d51-448c-86c0-4fddbf5b7950",
   "metadata": {},
   "outputs": [],
   "source": []
  }
 ],
 "metadata": {
  "kernelspec": {
   "display_name": "Python 3 (ipykernel)",
   "language": "python",
   "name": "python3"
  },
  "language_info": {
   "codemirror_mode": {
    "name": "ipython",
    "version": 3
   },
   "file_extension": ".py",
   "mimetype": "text/x-python",
   "name": "python",
   "nbconvert_exporter": "python",
   "pygments_lexer": "ipython3",
   "version": "3.8.19"
  }
 },
 "nbformat": 4,
 "nbformat_minor": 5
}
