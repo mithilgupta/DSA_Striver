{
 "cells": [
  {
   "cell_type": "markdown",
   "id": "da97b8e0-879e-4c1e-8629-8aa0c4f61e4a",
   "metadata": {},
   "source": [
    "# GCD"
   ]
  },
  {
   "cell_type": "code",
   "execution_count": 5,
   "id": "2121edfb-5983-43f7-b0d1-962bd5ceb3f0",
   "metadata": {},
   "outputs": [],
   "source": [
    "def gcd(a,b):\n",
    "\n",
    "    temp = min(a,b)\n",
    "    ans = 1\n",
    "\n",
    "    for i in range(temp, 0,-1):\n",
    "        # print(i)\n",
    "        if a%i == 0 and b%i == 0:\n",
    "            ans = i\n",
    "            break\n",
    "\n",
    "    return ans\n",
    "\n",
    "        \n",
    "    "
   ]
  },
  {
   "cell_type": "code",
   "execution_count": 7,
   "id": "47931bd9-de06-437a-a189-b1688b0414a7",
   "metadata": {},
   "outputs": [
    {
     "data": {
      "text/plain": [
       "5"
      ]
     },
     "execution_count": 7,
     "metadata": {},
     "output_type": "execute_result"
    }
   ],
   "source": [
    "gcd(20,15)"
   ]
  },
  {
   "cell_type": "code",
   "execution_count": null,
   "id": "569c1f28-a26b-4b4b-b4b7-b985b1b7dc9b",
   "metadata": {},
   "outputs": [],
   "source": [
    "def gcd2(a,b)"
   ]
  },
  {
   "cell_type": "code",
   "execution_count": null,
   "id": "c4a607df-b1d6-4101-9674-842af8111911",
   "metadata": {},
   "outputs": [],
   "source": []
  },
  {
   "cell_type": "code",
   "execution_count": null,
   "id": "d9002622-ae65-4696-9868-2847592d1493",
   "metadata": {},
   "outputs": [],
   "source": []
  },
  {
   "cell_type": "code",
   "execution_count": null,
   "id": "1267196b-5f3f-4982-aad8-a75e8f2843f9",
   "metadata": {},
   "outputs": [],
   "source": []
  },
  {
   "cell_type": "code",
   "execution_count": null,
   "id": "eaed8cd4-c9fc-436d-888b-3059b92f5a17",
   "metadata": {},
   "outputs": [],
   "source": []
  },
  {
   "cell_type": "code",
   "execution_count": null,
   "id": "1b02425b-e3f8-469b-b2b1-acb9f85ea4cb",
   "metadata": {},
   "outputs": [],
   "source": []
  },
  {
   "cell_type": "code",
   "execution_count": null,
   "id": "a4086fc4-dabb-4a94-817b-4a3a40845002",
   "metadata": {},
   "outputs": [],
   "source": []
  },
  {
   "cell_type": "code",
   "execution_count": null,
   "id": "9ee691b5-0c1c-4609-92f7-92c24921083d",
   "metadata": {},
   "outputs": [],
   "source": []
  },
  {
   "cell_type": "code",
   "execution_count": null,
   "id": "32602a75-fe1e-4513-838c-8caadaab1c6b",
   "metadata": {},
   "outputs": [],
   "source": []
  }
 ],
 "metadata": {
  "kernelspec": {
   "display_name": "Python 3 (ipykernel)",
   "language": "python",
   "name": "python3"
  },
  "language_info": {
   "codemirror_mode": {
    "name": "ipython",
    "version": 3
   },
   "file_extension": ".py",
   "mimetype": "text/x-python",
   "name": "python",
   "nbconvert_exporter": "python",
   "pygments_lexer": "ipython3",
   "version": "3.8.19"
  }
 },
 "nbformat": 4,
 "nbformat_minor": 5
}
