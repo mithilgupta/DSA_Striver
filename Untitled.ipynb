{
 "cells": [
  {
   "cell_type": "code",
   "execution_count": null,
   "id": "seventh-mauritius",
   "metadata": {},
   "outputs": [],
   "source": []
  },
  {
   "cell_type": "code",
   "execution_count": 2,
   "id": "working-allowance",
   "metadata": {},
   "outputs": [],
   "source": [
    "a = [1,2,3,4]"
   ]
  },
  {
   "cell_type": "code",
   "execution_count": 3,
   "id": "coupled-lobby",
   "metadata": {},
   "outputs": [
    {
     "data": {
      "text/plain": [
       "[3, 4, 1, 2]"
      ]
     },
     "execution_count": 3,
     "metadata": {},
     "output_type": "execute_result"
    }
   ],
   "source": [
    "a[0],a[1],a[2],a[3] = a[2], a[3],a[0],a[1]\n",
    "a"
   ]
  },
  {
   "cell_type": "code",
   "execution_count": null,
   "id": "incorporated-intellectual",
   "metadata": {},
   "outputs": [],
   "source": []
  },
  {
   "cell_type": "code",
   "execution_count": 18,
   "id": "variable-creation",
   "metadata": {},
   "outputs": [],
   "source": [
    "def getSecondOrderElements(a):\n",
    "    \n",
    "    \n",
    "    if len(a) < 2:\n",
    "        return([-1,-1])\n",
    "    \n",
    "    l = float('-inf')\n",
    "    sl = float('-inf')\n",
    "    s = float('inf')\n",
    "    ss = float('inf')\n",
    "    \n",
    "    for i in range(len(a)):\n",
    "        if a[i]> l and a[i]> sl: # if we find a bigger number, then swap largest and second largest\n",
    "            sl = l\n",
    "            l = a[i]\n",
    "\n",
    "            \n",
    "        elif a[i] < l and a[i] > sl:\n",
    "            sl = a[i]\n",
    "        \n",
    "        else:\n",
    "            pass\n",
    "        \n",
    "        \n",
    "        if a[i]<s and a[i]< ss:\n",
    "            ss = s\n",
    "            s = a[i]\n",
    "            \n",
    "        elif a[i]> s and a[i]< ss:\n",
    "            ss = a[i]\n",
    "        else:\n",
    "            pass\n",
    "        \n",
    "    \n",
    "    return([sl,ss])\n",
    "    "
   ]
  },
  {
   "cell_type": "code",
   "execution_count": 19,
   "id": "double-rugby",
   "metadata": {},
   "outputs": [
    {
     "data": {
      "text/plain": [
       "[9, 2]"
      ]
     },
     "execution_count": 19,
     "metadata": {},
     "output_type": "execute_result"
    }
   ],
   "source": [
    "getSecondOrderElements([1,2,3,4,5,6,7,8,9,10])    #[3,2]"
   ]
  },
  {
   "cell_type": "code",
   "execution_count": null,
   "id": "dramatic-gregory",
   "metadata": {},
   "outputs": [],
   "source": []
  },
  {
   "cell_type": "code",
   "execution_count": null,
   "id": "nearby-mercury",
   "metadata": {},
   "outputs": [],
   "source": []
  },
  {
   "cell_type": "code",
   "execution_count": 26,
   "id": "packed-letters",
   "metadata": {},
   "outputs": [],
   "source": [
    "def removeDuplicates(nums):\n",
    "    \n",
    "    right = 0\n",
    "    left = 0\n",
    "    \n",
    "    \n",
    "    for i in range(1,len(nums)):\n",
    "        if nums[i] != nums[left]:\n",
    "            left +=1\n",
    "            nums[left] = nums[i]\n",
    "    return(left+1)\n",
    "    \n",
    "    "
   ]
  },
  {
   "cell_type": "code",
   "execution_count": 27,
   "id": "marine-uniform",
   "metadata": {},
   "outputs": [
    {
     "data": {
      "text/plain": [
       "2"
      ]
     },
     "execution_count": 27,
     "metadata": {},
     "output_type": "execute_result"
    }
   ],
   "source": [
    "removeDuplicates([1,1,2])"
   ]
  },
  {
   "cell_type": "code",
   "execution_count": 30,
   "id": "serial-juice",
   "metadata": {},
   "outputs": [],
   "source": [
    "def rotate(nums,k):\n",
    "    \n",
    "    n = len(nums)\n",
    "    \n",
    "    k = k%n\n",
    "    print(n,k)\n",
    "    \n",
    "    nums = nums[::-1]\n",
    "    print(nums)\n",
    "    \n",
    "    nums[0:k] = nums[0:k:-1]\n",
    "    \n",
    "    return(nums)\n",
    "    \n",
    "    \n",
    "    "
   ]
  },
  {
   "cell_type": "code",
   "execution_count": 31,
   "id": "alleged-stocks",
   "metadata": {},
   "outputs": [
    {
     "name": "stdout",
     "output_type": "stream",
     "text": [
      "10 3\n",
      "[10, 9, 8, 7, 6, 5, 4, 3, 2, 1]\n"
     ]
    },
    {
     "data": {
      "text/plain": [
       "[7, 6, 5, 4, 3, 2, 1]"
      ]
     },
     "execution_count": 31,
     "metadata": {},
     "output_type": "execute_result"
    }
   ],
   "source": [
    "rotate([1,2,3,4,5,6,7,8,9,10],3) # [8,9,10,1,2,3,4,5,6,7]"
   ]
  },
  {
   "cell_type": "code",
   "execution_count": null,
   "id": "complete-clearance",
   "metadata": {},
   "outputs": [],
   "source": []
  },
  {
   "cell_type": "code",
   "execution_count": null,
   "id": "veterinary-porter",
   "metadata": {},
   "outputs": [],
   "source": []
  },
  {
   "cell_type": "code",
   "execution_count": 74,
   "id": "coupled-display",
   "metadata": {},
   "outputs": [],
   "source": [
    "def moveZeroes(nums):\n",
    "    \n",
    "    \n",
    "    left = 0\n",
    "    n = len(nums)\n",
    "    \n",
    "    for i in range(len(nums)):\n",
    "        while nums[i] == 0 and left <= n:\n",
    "            nums[i:n-1] = nums[i+1:n]\n",
    "            nums[n-1] = 0\n",
    "            left +=1\n",
    "            \n",
    "    return(nums)\n",
    "        \n",
    "    \n",
    "    \n",
    "    \n"
   ]
  },
  {
   "cell_type": "code",
   "execution_count": 76,
   "id": "artistic-gospel",
   "metadata": {},
   "outputs": [
    {
     "data": {
      "text/plain": [
       "[1, 3, 12, 0, 0]"
      ]
     },
     "execution_count": 76,
     "metadata": {},
     "output_type": "execute_result"
    }
   ],
   "source": [
    "moveZeroes([0,1,0,3,12])"
   ]
  },
  {
   "cell_type": "code",
   "execution_count": 71,
   "id": "binding-destruction",
   "metadata": {},
   "outputs": [
    {
     "data": {
      "text/plain": [
       "[1, 0, 0]"
      ]
     },
     "execution_count": 71,
     "metadata": {},
     "output_type": "execute_result"
    }
   ],
   "source": [
    "nums = [0,0,1]\n",
    "left = 0\n",
    "n = len(nums)\n",
    "\n",
    "while nums[0] == 0:\n",
    "    nums[left:n-1] = nums[left+1:n]\n",
    "    nums[n-1] = 0\n",
    "nums"
   ]
  },
  {
   "cell_type": "code",
   "execution_count": null,
   "id": "increasing-absolute",
   "metadata": {},
   "outputs": [],
   "source": []
  },
  {
   "cell_type": "code",
   "execution_count": null,
   "id": "sacred-circumstances",
   "metadata": {},
   "outputs": [],
   "source": []
  },
  {
   "cell_type": "code",
   "execution_count": null,
   "id": "moved-postage",
   "metadata": {},
   "outputs": [],
   "source": []
  }
 ],
 "metadata": {
  "kernelspec": {
   "display_name": "Python 3",
   "language": "python",
   "name": "python3"
  },
  "language_info": {
   "codemirror_mode": {
    "name": "ipython",
    "version": 3
   },
   "file_extension": ".py",
   "mimetype": "text/x-python",
   "name": "python",
   "nbconvert_exporter": "python",
   "pygments_lexer": "ipython3",
   "version": "3.6.12"
  }
 },
 "nbformat": 4,
 "nbformat_minor": 5
}
