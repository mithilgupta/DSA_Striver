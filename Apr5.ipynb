{
 "cells": [
  {
   "cell_type": "code",
   "execution_count": null,
   "id": "aerial-nightlife",
   "metadata": {},
   "outputs": [],
   "source": []
  },
  {
   "cell_type": "code",
   "execution_count": null,
   "id": "sixth-lesbian",
   "metadata": {},
   "outputs": [],
   "source": [
    "[ 1, 1, 2, 3, 5, 8, 13, 21]"
   ]
  },
  {
   "cell_type": "code",
   "execution_count": 12,
   "id": "about-visit",
   "metadata": {},
   "outputs": [],
   "source": [
    "def fibn(n):\n",
    "    l = []\n",
    "    \n",
    "    for i in range(n):\n",
    "#         print(i+1)\n",
    "        if i == 0:\n",
    "            l.append(1)\n",
    "            \n",
    "        elif i == 1:\n",
    "            l.append(1)\n",
    "        \n",
    "        else:\n",
    "            \n",
    "            temp = l[i-1]+l[i-2]\n",
    "            l.append(temp)\n",
    "            \n",
    "    return(l[n-1])\n",
    "        \n",
    "        "
   ]
  },
  {
   "cell_type": "code",
   "execution_count": 15,
   "id": "cellular-present",
   "metadata": {},
   "outputs": [
    {
     "data": {
      "text/plain": [
       "1"
      ]
     },
     "execution_count": 15,
     "metadata": {},
     "output_type": "execute_result"
    }
   ],
   "source": [
    "fibn(1)"
   ]
  },
  {
   "cell_type": "code",
   "execution_count": 25,
   "id": "practical-stamp",
   "metadata": {},
   "outputs": [
    {
     "name": "stdout",
     "output_type": "stream",
     "text": [
      "12 9\n"
     ]
    }
   ],
   "source": [
    "n = input(132456\n",
    "\n",
    "odd = 0\n",
    "even = 0\n",
    "\n",
    "while n>0:\n",
    "    rem = int(n%10)\n",
    "#     print(rem)\n",
    "    \n",
    "    if rem%2 == 0:\n",
    "        even += rem\n",
    "    else:\n",
    "        odd +=rem\n",
    "    \n",
    "    \n",
    "    n = int(n/10)\n",
    "    \n",
    "    \n",
    "print(even, odd)"
   ]
  },
  {
   "cell_type": "code",
   "execution_count": null,
   "id": "institutional-oxygen",
   "metadata": {},
   "outputs": [],
   "source": []
  },
  {
   "cell_type": "code",
   "execution_count": 30,
   "id": "automotive-neighborhood",
   "metadata": {},
   "outputs": [
    {
     "data": {
      "text/plain": [
       "'* * * *'"
      ]
     },
     "execution_count": 30,
     "metadata": {},
     "output_type": "execute_result"
    }
   ],
   "source": [
    "('* '*4).strip()"
   ]
  },
  {
   "cell_type": "code",
   "execution_count": 40,
   "id": "significant-publisher",
   "metadata": {},
   "outputs": [
    {
     "name": "stdout",
     "output_type": "stream",
     "text": [
      "\n",
      "\n",
      "1\n",
      "\n",
      "12\n",
      "\n",
      "123\n",
      "\n"
     ]
    }
   ],
   "source": [
    "for i in range(3+1):\n",
    "    for j in range(i):\n",
    "        print(j+1, end = \"\")\n",
    "    print(\"\\n\")"
   ]
  },
  {
   "cell_type": "code",
   "execution_count": 58,
   "id": "metropolitan-verse",
   "metadata": {},
   "outputs": [
    {
     "name": "stdout",
     "output_type": "stream",
     "text": [
      "1\n",
      "\n",
      "12\n",
      "\n",
      "123\n",
      "\n"
     ]
    }
   ],
   "source": [
    "n = 3\n",
    "for i in range(n):\n",
    "    for j in range(i+1):\n",
    "        print(j+1, end = \"\")\n",
    "    print(\"\\n\")"
   ]
  },
  {
   "cell_type": "code",
   "execution_count": 63,
   "id": "announced-cradle",
   "metadata": {},
   "outputs": [
    {
     "name": "stdout",
     "output_type": "stream",
     "text": [
      "  *  \n",
      " *** \n",
      "*****\n"
     ]
    }
   ],
   "source": [
    "n = 3\n",
    "for i in range(0,n): #0,1,2\n",
    "    print(\" \"*(n-i-1) + \"*\"*(2*i+1)+ \" \"*(n-i-1), end = \"\")\n",
    "    print('\\n', end = \"\")"
   ]
  },
  {
   "cell_type": "code",
   "execution_count": null,
   "id": "compound-melbourne",
   "metadata": {},
   "outputs": [],
   "source": [
    "1,3,5,7\n",
    "0-1\n",
    "1-3\n",
    "3-5\n"
   ]
  },
  {
   "cell_type": "code",
   "execution_count": 60,
   "id": "corporate-retro",
   "metadata": {},
   "outputs": [
    {
     "name": "stdout",
     "output_type": "stream",
     "text": [
      "3\n",
      "2\n",
      "1\n"
     ]
    }
   ],
   "source": [
    "n = 3\n",
    "for i in range(0,n):\n",
    "    print(n-i)"
   ]
  },
  {
   "cell_type": "code",
   "execution_count": null,
   "id": "forty-gallery",
   "metadata": {},
   "outputs": [],
   "source": []
  },
  {
   "cell_type": "code",
   "execution_count": 67,
   "id": "similar-combat",
   "metadata": {},
   "outputs": [
    {
     "name": "stdout",
     "output_type": "stream",
     "text": [
      "  *  \n",
      " *** \n",
      "*****\n",
      "*****\n",
      " *** \n",
      "  *  \n"
     ]
    }
   ],
   "source": [
    "n = 3\n",
    "for i in range(0,n): #0,1,2\n",
    "    print(\" \"*(n-i-1) + \"*\"*(2*i+1)+ \" \"*(n-i-1), end = \"\")\n",
    "    print('\\n', end = \"\")   \n",
    "    \n",
    "for i in range(0,n):\n",
    "    print(\" \"*(i) + \"*\"*(2*(n-i)-1)+ \" \"*(i), end = \"\")\n",
    "    print('\\n', end = \"\")    \n",
    "    "
   ]
  },
  {
   "cell_type": "code",
   "execution_count": null,
   "id": "banner-diagnosis",
   "metadata": {},
   "outputs": [],
   "source": [
    "nStarDiamond(3)"
   ]
  },
  {
   "cell_type": "code",
   "execution_count": null,
   "id": "extra-advocacy",
   "metadata": {},
   "outputs": [],
   "source": []
  },
  {
   "cell_type": "code",
   "execution_count": 76,
   "id": "recorded-scheme",
   "metadata": {},
   "outputs": [
    {
     "name": "stdout",
     "output_type": "stream",
     "text": [
      "0\n",
      "10\n",
      "010\n",
      "1010\n"
     ]
    }
   ],
   "source": [
    "n = 4\n",
    "for i in range(n):\n",
    "#     print(i)\n",
    "    for j in range(i+1):\n",
    "        num = (i+j)%2\n",
    "        print(num, end = \"\")\n",
    "    print(\"\\n\", end = \"\")\n",
    "\n"
   ]
  },
  {
   "cell_type": "code",
   "execution_count": null,
   "id": "graphic-interface",
   "metadata": {},
   "outputs": [],
   "source": [
    "\n"
   ]
  },
  {
   "cell_type": "code",
   "execution_count": 121,
   "id": "ethical-armstrong",
   "metadata": {},
   "outputs": [],
   "source": [
    "def reverse(x):\n",
    "    output = 0\n",
    "    \n",
    "    if x <0:\n",
    "        x = -x\n",
    "    \n",
    "    while x > 0:\n",
    "        \n",
    "        output = output*10\n",
    "        output += x%10\n",
    "    \n",
    "        x = int(x/10)\n",
    "    \n",
    "    print(output)\n",
    "    "
   ]
  },
  {
   "cell_type": "code",
   "execution_count": 122,
   "id": "immediate-privilege",
   "metadata": {},
   "outputs": [
    {
     "name": "stdout",
     "output_type": "stream",
     "text": [
      "4321\n"
     ]
    }
   ],
   "source": [
    "reverse(1234)"
   ]
  },
  {
   "cell_type": "code",
   "execution_count": null,
   "id": "sonic-virus",
   "metadata": {},
   "outputs": [],
   "source": []
  },
  {
   "cell_type": "code",
   "execution_count": 116,
   "id": "included-speech",
   "metadata": {},
   "outputs": [],
   "source": [
    "def pal(x):\n",
    "    \n",
    "    x = str(x)\n",
    "    n = len(x)\n",
    "    \n",
    "    for i in range(n):\n",
    "#         print(x[i], x[n-i-1])\n",
    "        if x[i] == x[n-i-1]:\n",
    "            pass\n",
    "        else:\n",
    "            return(False)\n",
    "        \n",
    "    return(True)"
   ]
  },
  {
   "cell_type": "code",
   "execution_count": 117,
   "id": "biological-camping",
   "metadata": {},
   "outputs": [
    {
     "data": {
      "text/plain": [
       "True"
      ]
     },
     "execution_count": 117,
     "metadata": {},
     "output_type": "execute_result"
    }
   ],
   "source": [
    "pal(1234321)"
   ]
  },
  {
   "cell_type": "code",
   "execution_count": null,
   "id": "weekly-duncan",
   "metadata": {},
   "outputs": [],
   "source": []
  },
  {
   "cell_type": "code",
   "execution_count": 149,
   "id": "increasing-gallery",
   "metadata": {},
   "outputs": [],
   "source": [
    "def checkArmstrong(n2):\n",
    "        l = len(str(n2))\n",
    "        \n",
    "        n = n2\n",
    "        output = 0\n",
    "        \n",
    "        while n>0:\n",
    "            \n",
    "            rem = n%10\n",
    "    #         print(rem)\n",
    "            output +=  rem**l\n",
    "            \n",
    "            n = int(n/10)\n",
    "            \n",
    "        return(True if int(output) == int(n2) else False) \n"
   ]
  },
  {
   "cell_type": "code",
   "execution_count": 150,
   "id": "everyday-aviation",
   "metadata": {},
   "outputs": [
    {
     "data": {
      "text/plain": [
       "True"
      ]
     },
     "execution_count": 150,
     "metadata": {},
     "output_type": "execute_result"
    }
   ],
   "source": [
    "checkArmstrong(1)"
   ]
  },
  {
   "cell_type": "code",
   "execution_count": null,
   "id": "psychological-devon",
   "metadata": {},
   "outputs": [],
   "source": []
  },
  {
   "cell_type": "code",
   "execution_count": null,
   "id": "single-carbon",
   "metadata": {},
   "outputs": [],
   "source": []
  },
  {
   "cell_type": "code",
   "execution_count": null,
   "id": "horizontal-falls",
   "metadata": {},
   "outputs": [],
   "source": []
  },
  {
   "cell_type": "code",
   "execution_count": null,
   "id": "electronic-alaska",
   "metadata": {},
   "outputs": [],
   "source": []
  },
  {
   "cell_type": "code",
   "execution_count": null,
   "id": "protective-joyce",
   "metadata": {},
   "outputs": [],
   "source": []
  }
 ],
 "metadata": {
  "kernelspec": {
   "display_name": "Python 3",
   "language": "python",
   "name": "python3"
  },
  "language_info": {
   "codemirror_mode": {
    "name": "ipython",
    "version": 3
   },
   "file_extension": ".py",
   "mimetype": "text/x-python",
   "name": "python",
   "nbconvert_exporter": "python",
   "pygments_lexer": "ipython3",
   "version": "3.6.12"
  }
 },
 "nbformat": 4,
 "nbformat_minor": 5
}
