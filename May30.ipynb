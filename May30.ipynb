{
 "cells": [
  {
   "cell_type": "markdown",
   "id": "a63c7213-2720-4a9a-968a-145da22061dd",
   "metadata": {},
   "source": [
    "# Shortest Word Distance (easy)"
   ]
  },
  {
   "cell_type": "code",
   "execution_count": 9,
   "id": "6bcd0700-33bc-47f6-99cc-73c3f14c541d",
   "metadata": {},
   "outputs": [],
   "source": [
    "def shortestDistance(words, word1, word2):\n",
    "\n",
    "\n",
    "    l = float('-inf')\n",
    "    r = float('-inf')\n",
    "\n",
    "    min_ = float('inf')\n",
    "\n",
    "\n",
    "    for i in range(len(words)):\n",
    "        if words[i] == word1 or words[i] == word2:\n",
    "            if words[i] == word1:\n",
    "                l = i\n",
    "            else:\n",
    "                r = i\n",
    "\n",
    "        min_ = min(min_, abs(l-r))\n",
    "\n",
    "\n",
    "        # print(words[i])\n",
    "        # try:\n",
    "        #     print(words[l], words[r], min_)\n",
    "        # except:\n",
    "        #     pass\n",
    "\n",
    "\n",
    "    return min_\n",
    "    "
   ]
  },
  {
   "cell_type": "code",
   "execution_count": 11,
   "id": "eebd3910-92bb-4f95-8cff-a3b9287d6271",
   "metadata": {},
   "outputs": [
    {
     "data": {
      "text/plain": [
       "5"
      ]
     },
     "execution_count": 11,
     "metadata": {},
     "output_type": "execute_result"
    }
   ],
   "source": [
    "shortestDistance(words = [\"the\", \"quick\", \"brown\", \"fox\", \"jumps\", \"over\", \"the\", \"lazy\", \"dog\"], word1 = \"fox\", word2 = \"dog\")"
   ]
  },
  {
   "cell_type": "code",
   "execution_count": null,
   "id": "91e553a7-8355-4aee-becc-56eb86109ee3",
   "metadata": {},
   "outputs": [],
   "source": []
  },
  {
   "cell_type": "markdown",
   "id": "2177ac71-e3a4-4c99-8b4e-12fbed581f74",
   "metadata": {},
   "source": [
    "# Number of Good Pairs (easy)"
   ]
  },
  {
   "cell_type": "code",
   "execution_count": 22,
   "id": "f445e31e-ef0d-464a-8211-dd9d08b3310c",
   "metadata": {},
   "outputs": [],
   "source": [
    "def numGoodPairs(nums):\n",
    "    output = []\n",
    "    cnt = 0\n",
    "\n",
    "    for i in range(len(nums)-1):\n",
    "        for j in range(i+1, len(nums)):\n",
    "            # print(nums[i],nums[j])\n",
    "\n",
    "\n",
    "            if nums[i] == nums[j]:\n",
    "                output.append([nums[i], nums[j]])\n",
    "                cnt+=1\n",
    "\n",
    "\n",
    "    return cnt, output\n",
    "    "
   ]
  },
  {
   "cell_type": "code",
   "execution_count": 23,
   "id": "6fb38490-d461-40a1-98d8-9cdc8f3f2f06",
   "metadata": {},
   "outputs": [
    {
     "data": {
      "text/plain": [
       "(4, [[1, 1], [1, 1], [3, 3], [1, 1]])"
      ]
     },
     "execution_count": 23,
     "metadata": {},
     "output_type": "execute_result"
    }
   ],
   "source": [
    "numGoodPairs(nums = [1,2,3,1,1,3])"
   ]
  },
  {
   "cell_type": "code",
   "execution_count": null,
   "id": "360fc40d-7751-470b-9ce9-e801fd115f51",
   "metadata": {},
   "outputs": [],
   "source": []
  },
  {
   "cell_type": "markdown",
   "id": "ecbeaf4c-c4d0-41f3-ad42-f3e90926d466",
   "metadata": {},
   "source": [
    "# Sqrt (medium)"
   ]
  },
  {
   "cell_type": "code",
   "execution_count": null,
   "id": "48050337-f9d8-42e9-a79b-17bbc40c67d5",
   "metadata": {},
   "outputs": [],
   "source": [
    "def mySqrt(x):\n",
    "    # Try again\n"
   ]
  },
  {
   "cell_type": "code",
   "execution_count": null,
   "id": "8fc38d1a-b7bc-456f-9174-81073c1f461b",
   "metadata": {},
   "outputs": [],
   "source": [
    "mySqrt(8)"
   ]
  },
  {
   "cell_type": "code",
   "execution_count": null,
   "id": "8509846b-2b2e-4a4e-8788-b1e725a95a98",
   "metadata": {},
   "outputs": [],
   "source": []
  },
  {
   "cell_type": "code",
   "execution_count": 26,
   "id": "dc1c1af7-b300-4c9d-8064-3dacd93fd8b6",
   "metadata": {},
   "outputs": [],
   "source": [
    "# Basic Binary Search\n",
    "\n",
    "def bs(arr,k):\n",
    "    n = len(arr)\n",
    "\n",
    "    low = 0\n",
    "    high = n\n",
    "\n",
    "    while low < high:\n",
    "        mid = (high+low)//2\n",
    "        if arr[mid] > k:\n",
    "            high = mid\n",
    "        elif arr[mid] < k:\n",
    "            low = mid\n",
    "        else:\n",
    "            return mid\n",
    "    "
   ]
  },
  {
   "cell_type": "code",
   "execution_count": 29,
   "id": "c971d3a9-283a-4b69-86b4-462d9b1cc5dc",
   "metadata": {},
   "outputs": [
    {
     "data": {
      "text/plain": [
       "2"
      ]
     },
     "execution_count": 29,
     "metadata": {},
     "output_type": "execute_result"
    }
   ],
   "source": [
    "bs([0,2,4,6,8,10,12,14,16,18], 4)"
   ]
  },
  {
   "cell_type": "code",
   "execution_count": null,
   "id": "9ff1423d-4ec4-438b-ad42-bf5142ae1e73",
   "metadata": {},
   "outputs": [],
   "source": []
  },
  {
   "cell_type": "markdown",
   "id": "a6b707bd-b1ab-481e-9b2d-1df2f708ae4a",
   "metadata": {},
   "source": [
    "# Linked Lists"
   ]
  },
  {
   "cell_type": "code",
   "execution_count": 80,
   "id": "b72ab409-c42a-4fc2-a750-3db2ca87c4c3",
   "metadata": {},
   "outputs": [],
   "source": [
    "class Node:\n",
    "    def __init__(self, value):\n",
    "        self.value = value\n",
    "        self.next = None\n",
    "\n",
    "class LinkedList:\n",
    "    def __init__(self):\n",
    "        self.head = None\n",
    "\n",
    "    # Append at the starting\n",
    "    def push(self, new_data):\n",
    "        new_node = Node(new_data)\n",
    "        new_node.next = self.head\n",
    "        self.head = new_node\n",
    "\n",
    "    # Display the entire linked List\n",
    "    def display(self):\n",
    "        node = self.head\n",
    "        while node.next :\n",
    "            print(node.value)\n",
    "            node = node.next\n",
    "        print (node.value)\n",
    "\n",
    "    # Append at the end\n",
    "    def append(self, new_data):\n",
    "        node = self.head\n",
    "        new_node = Node(new_data)\n",
    "    \n",
    "        while node.next:\n",
    "            node = node.next\n",
    "    \n",
    "        node.next = new_node\n",
    "        new_node.next = None    \n",
    "\n",
    "    # Check if an element exists in LL\n",
    "    def find(self, new_data):\n",
    "        node = self.head\n",
    "    \n",
    "        while node:\n",
    "            if node.value == new_data:\n",
    "                return True\n",
    "            node = node.next\n",
    "    \n",
    "        return False\n",
    "        \n",
    "    # Check Length of LL\n",
    "    def getCount(self):\n",
    "        node = self.head\n",
    "        cnt = 0\n",
    "\n",
    "        while node:\n",
    "            cnt +=1\n",
    "            node = node.next\n",
    "\n",
    "        return cnt\n"
   ]
  },
  {
   "cell_type": "code",
   "execution_count": 81,
   "id": "ebb5c1f0-b8ad-4c3a-b1aa-df99dce3717c",
   "metadata": {},
   "outputs": [],
   "source": [
    "linked_list = LinkedList()\n",
    "linked_list.push(10)\n",
    "linked_list.append(20)\n",
    "linked_list.append(30)\n",
    "linked_list.append(40)\n",
    "\n",
    "\n",
    "# linked_list.display()\n",
    "\n",
    "\n",
    "# print(linked_list.remove(0))\n",
    "# print(linked_list)"
   ]
  },
  {
   "cell_type": "code",
   "execution_count": 82,
   "id": "27f71fd4-6e27-4f56-81f1-21e30effd8d6",
   "metadata": {},
   "outputs": [
    {
     "data": {
      "text/plain": [
       "True"
      ]
     },
     "execution_count": 82,
     "metadata": {},
     "output_type": "execute_result"
    }
   ],
   "source": [
    "linked_list.find(30)"
   ]
  },
  {
   "cell_type": "code",
   "execution_count": 83,
   "id": "62b49773-b779-40d0-98cc-2f42ef914c4a",
   "metadata": {},
   "outputs": [
    {
     "data": {
      "text/plain": [
       "4"
      ]
     },
     "execution_count": 83,
     "metadata": {},
     "output_type": "execute_result"
    }
   ],
   "source": [
    "linked_list.getCount()"
   ]
  },
  {
   "cell_type": "code",
   "execution_count": null,
   "id": "224d3aa2-4acd-41f1-8662-13b02a1ef5a1",
   "metadata": {},
   "outputs": [],
   "source": []
  }
 ],
 "metadata": {
  "kernelspec": {
   "display_name": "Python 3 (ipykernel)",
   "language": "python",
   "name": "python3"
  },
  "language_info": {
   "codemirror_mode": {
    "name": "ipython",
    "version": 3
   },
   "file_extension": ".py",
   "mimetype": "text/x-python",
   "name": "python",
   "nbconvert_exporter": "python",
   "pygments_lexer": "ipython3",
   "version": "3.12.3"
  }
 },
 "nbformat": 4,
 "nbformat_minor": 5
}
