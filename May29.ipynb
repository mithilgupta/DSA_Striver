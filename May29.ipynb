{
 "cells": [
  {
   "cell_type": "code",
   "execution_count": null,
   "id": "a625a195",
   "metadata": {},
   "outputs": [],
   "source": [
    "# Pangram (easy)"
   ]
  },
  {
   "cell_type": "code",
   "execution_count": 12,
   "id": "58da6288",
   "metadata": {},
   "outputs": [],
   "source": [
    "def checkIfPangram(sentence):\n",
    "    \n",
    "    arr = [0]*26\n",
    "    \n",
    "    for i in range(len(sentence)):\n",
    "        if ord(sentence[i].lower()) - ord('a') >= 0 and ord(sentence[i].lower()) - ord('a') <26:\n",
    "            arr[ord(sentence[i].lower()) - ord('a')] +=1\n",
    "            \n",
    "    \n",
    "    for i in arr:\n",
    "        if i == 0:\n",
    "            return False\n",
    "    \n",
    "    return True\n",
    "    \n",
    "    "
   ]
  },
  {
   "cell_type": "code",
   "execution_count": 13,
   "id": "d1a80c4d",
   "metadata": {},
   "outputs": [
    {
     "data": {
      "text/plain": [
       "False"
      ]
     },
     "execution_count": 13,
     "metadata": {},
     "output_type": "execute_result"
    }
   ],
   "source": [
    "checkIfPangram(\"TheQuickBrownFoxOverTheLazyDog123\")"
   ]
  },
  {
   "cell_type": "code",
   "execution_count": null,
   "id": "8755aa08",
   "metadata": {},
   "outputs": [],
   "source": []
  },
  {
   "cell_type": "code",
   "execution_count": null,
   "id": "92021656",
   "metadata": {},
   "outputs": [],
   "source": [
    "# Reverse Vowels (easy)"
   ]
  },
  {
   "cell_type": "code",
   "execution_count": 25,
   "id": "a20fe32b",
   "metadata": {},
   "outputs": [],
   "source": [
    "# 2 Pointer\n",
    "def reverseVowels(s):\n",
    "    \n",
    "    temp = 'aeiouAEIOU'\n",
    "    l = 0\n",
    "    r = len(s)-1\n",
    "    \n",
    "    s = list(s)\n",
    "    \n",
    "    while l<r:\n",
    "        if s[l] not in temp and s[r] not in temp :\n",
    "            l+=1\n",
    "            r-=1\n",
    "        elif s[l] not in temp and s[r] in temp:\n",
    "            l+=1\n",
    "        elif s[l] in temp and s[r] not in temp:\n",
    "            r-=1\n",
    "        else:\n",
    "            s[l], s[r] = s[r], s[l]\n",
    "            l+=1\n",
    "            r-=1\n",
    "            \n",
    "    \n",
    "    return \"\".join(s)\n",
    "        \n"
   ]
  },
  {
   "cell_type": "code",
   "execution_count": 26,
   "id": "79639849",
   "metadata": {},
   "outputs": [
    {
     "data": {
      "text/plain": [
       "'DusUgnGires'"
      ]
     },
     "execution_count": 26,
     "metadata": {},
     "output_type": "execute_result"
    }
   ],
   "source": [
    "reverseVowels(\"DesignGUrus\")"
   ]
  },
  {
   "cell_type": "code",
   "execution_count": null,
   "id": "9ee8a88e",
   "metadata": {},
   "outputs": [],
   "source": [
    "# Valid Palindrome (easy)\n",
    "\n",
    "def ispalindrome(s):\n",
    "    \n",
    "    l = 0\n",
    "    r = len(s)-1\n",
    "    \n",
    "    \n",
    "    \n",
    "    \n",
    "    \n",
    "    "
   ]
  },
  {
   "cell_type": "code",
   "execution_count": null,
   "id": "46a0a3dc",
   "metadata": {},
   "outputs": [],
   "source": [
    "ispalindrome(\"Was it a car or a cat I saw?\")"
   ]
  },
  {
   "cell_type": "code",
   "execution_count": null,
   "id": "0bfa1d10",
   "metadata": {},
   "outputs": [],
   "source": []
  },
  {
   "cell_type": "code",
   "execution_count": 61,
   "id": "4c05eba0",
   "metadata": {},
   "outputs": [],
   "source": [
    "# Valid Anagram\n",
    "\n",
    "def isAnagram(s,t):\n",
    "    \n",
    "    ## Approach 1\n",
    "#     x = 0\n",
    "#     y = 0\n",
    "    \n",
    "#     for i in s:\n",
    "#         x = x^ord(i)\n",
    "#     for j in t:\n",
    "#         y = y^ord(j)\n",
    "\n",
    "#     if x == 0:\n",
    "#         return True\n",
    "#     else:\n",
    "#         return False\n",
    "\n",
    "    ## Approach 2\n",
    "#     if len(s)!= len(t):\n",
    "#         return False\n",
    "    \n",
    "#     xor = 0\n",
    "#     for i in range(len(s)):\n",
    "#         xor = xor^ord(s[i])^ord(t[i])\n",
    "        \n",
    "#     print(xor)\n",
    "    \n",
    "    ## \n",
    "    dict_ = {}\n",
    "    \n",
    "    for i in range(len(s)):\n",
    "        if s[i] not in dict_:\n",
    "            dict_[s[i]] = 1\n",
    "        else:\n",
    "            dict_[s[i]] +=1\n",
    "#     print(dict_)\n",
    "    \n",
    "    for j in range(len(t)):\n",
    "        try:\n",
    "            dict_[t[j]] -=1\n",
    "        except:\n",
    "            return False\n",
    "    \n",
    "    for x in dict_.values():\n",
    "        if x !=0:\n",
    "            return False\n",
    "        \n",
    "    return True\n",
    "    \n",
    "    \n",
    "    \n",
    "    \n",
    "\n"
   ]
  },
  {
   "cell_type": "code",
   "execution_count": 62,
   "id": "1fa3b4f7",
   "metadata": {},
   "outputs": [
    {
     "data": {
      "text/plain": [
       "True"
      ]
     },
     "execution_count": 62,
     "metadata": {},
     "output_type": "execute_result"
    }
   ],
   "source": [
    "isAnagram(s = \"hello\", t = \"hello\")"
   ]
  },
  {
   "cell_type": "code",
   "execution_count": 32,
   "id": "e91992f9",
   "metadata": {},
   "outputs": [
    {
     "ename": "TypeError",
     "evalue": "unsupported operand type(s) for ^: 'str' and 'str'",
     "output_type": "error",
     "traceback": [
      "\u001b[0;31m---------------------------------------------------------------------------\u001b[0m",
      "\u001b[0;31mTypeError\u001b[0m                                 Traceback (most recent call last)",
      "Cell \u001b[0;32mIn[32], line 1\u001b[0m\n\u001b[0;32m----> 1\u001b[0m \u001b[38;5;124;43m'\u001b[39;49m\u001b[38;5;124;43mg\u001b[39;49m\u001b[38;5;124;43m'\u001b[39;49m\u001b[38;5;241;43m^\u001b[39;49m\u001b[38;5;124;43m'\u001b[39;49m\u001b[38;5;124;43mg\u001b[39;49m\u001b[38;5;124;43m'\u001b[39;49m\n",
      "\u001b[0;31mTypeError\u001b[0m: unsupported operand type(s) for ^: 'str' and 'str'"
     ]
    }
   ],
   "source": []
  },
  {
   "cell_type": "code",
   "execution_count": null,
   "id": "a5bdf844",
   "metadata": {},
   "outputs": [],
   "source": []
  },
  {
   "cell_type": "code",
   "execution_count": 1,
   "id": "eb023474",
   "metadata": {},
   "outputs": [],
   "source": [
    "# Shortest Word Distance (easy)\n",
    "\n",
    "def shortestDistance(words, word1, word2):\n",
    "    l = 0\n",
    "    r = 0\n",
    "    min_ = len(words)\n",
    "    \n",
    "    while l < len(words) and r < len(words):\n",
    "        if words[l] != word1:\n",
    "            l+=1\n",
    "            \n",
    "        if words[r] != word2:\n",
    "            r+=1\n",
    "            \n",
    "        if words[l] == word1 and words[r] == word2:\n",
    "            print(abs(r-l))\n",
    "            \n",
    "            min_ = min(min_, abs(r-l))\n",
    "            \n",
    "            l+=1\n",
    "            r+=1\n",
    "            \n",
    "    return min_\n",
    "    "
   ]
  },
  {
   "cell_type": "code",
   "execution_count": 2,
   "id": "3877ddd6",
   "metadata": {},
   "outputs": [
    {
     "name": "stdout",
     "output_type": "stream",
     "text": [
      "3\n"
     ]
    },
    {
     "data": {
      "text/plain": [
       "3"
      ]
     },
     "execution_count": 2,
     "metadata": {},
     "output_type": "execute_result"
    }
   ],
   "source": [
    "shortestDistance(words = [\"a\", \"c\", \"d\", \"b\", \"a\"], word1 = \"a\", word2 = \"b\")"
   ]
  },
  {
   "cell_type": "code",
   "execution_count": null,
   "id": "0f55d12a",
   "metadata": {},
   "outputs": [],
   "source": []
  },
  {
   "cell_type": "code",
   "execution_count": null,
   "id": "ff8f7c35",
   "metadata": {},
   "outputs": [],
   "source": []
  },
  {
   "cell_type": "code",
   "execution_count": null,
   "id": "b7a9aaa9",
   "metadata": {},
   "outputs": [],
   "source": []
  },
  {
   "cell_type": "code",
   "execution_count": null,
   "id": "98760864",
   "metadata": {},
   "outputs": [],
   "source": []
  },
  {
   "cell_type": "code",
   "execution_count": null,
   "id": "115e7097",
   "metadata": {},
   "outputs": [],
   "source": []
  },
  {
   "cell_type": "code",
   "execution_count": null,
   "id": "89950fcc",
   "metadata": {},
   "outputs": [],
   "source": []
  }
 ],
 "metadata": {
  "kernelspec": {
   "display_name": "Python 3 (ipykernel)",
   "language": "python",
   "name": "python3"
  },
  "language_info": {
   "codemirror_mode": {
    "name": "ipython",
    "version": 3
   },
   "file_extension": ".py",
   "mimetype": "text/x-python",
   "name": "python",
   "nbconvert_exporter": "python",
   "pygments_lexer": "ipython3",
   "version": "3.8.18"
  }
 },
 "nbformat": 4,
 "nbformat_minor": 5
}
