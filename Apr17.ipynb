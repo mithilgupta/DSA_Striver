{
 "cells": [
  {
   "cell_type": "code",
   "execution_count": null,
   "id": "ranking-dryer",
   "metadata": {},
   "outputs": [],
   "source": []
  },
  {
   "cell_type": "code",
   "execution_count": 30,
   "id": "english-appreciation",
   "metadata": {},
   "outputs": [],
   "source": [
    "def moveZeroes(nums):\n",
    "    \n",
    "    \n",
    "    \n",
    "    n = len(nums)\n",
    "#     print(n)\n",
    "\n",
    "    left = -1\n",
    "    right = -1\n",
    "    \n",
    "    for x in range(n):\n",
    "        if nums[x] == 0:\n",
    "            left = x\n",
    "            right = x\n",
    "            break\n",
    "            \n",
    "    if left == -1:\n",
    "        return(nums)\n",
    "            \n",
    "#     print(left, right)\n",
    "    start = left\n",
    "    \n",
    "    while right <= n-1:\n",
    "#         print(nums[right])\n",
    "        \n",
    "        while nums[right] == 0 and right <n-1:\n",
    "            right +=1\n",
    "        \n",
    "        nums[left], nums[right] = nums[right], nums[left]\n",
    "        left +=1\n",
    "        right +=1\n",
    "        \n",
    "#         print(right, nums)\n",
    "        \n",
    "        \n",
    "    return(nums)\n",
    "    "
   ]
  },
  {
   "cell_type": "code",
   "execution_count": 32,
   "id": "nuclear-oklahoma",
   "metadata": {},
   "outputs": [
    {
     "ename": "UnboundLocalError",
     "evalue": "local variable 'left' referenced before assignment",
     "output_type": "error",
     "traceback": [
      "\u001b[0;31m---------------------------------------------------------------------------\u001b[0m",
      "\u001b[0;31mUnboundLocalError\u001b[0m                         Traceback (most recent call last)",
      "\u001b[0;32m<ipython-input-32-743ec8d82dc5>\u001b[0m in \u001b[0;36m<module>\u001b[0;34m\u001b[0m\n\u001b[0;32m----> 1\u001b[0;31m \u001b[0mmoveZeroes\u001b[0m\u001b[0;34m(\u001b[0m\u001b[0;34m[\u001b[0m\u001b[0;36m2\u001b[0m\u001b[0;34m,\u001b[0m\u001b[0;36m1\u001b[0m\u001b[0;34m]\u001b[0m\u001b[0;34m)\u001b[0m\u001b[0;34m\u001b[0m\u001b[0;34m\u001b[0m\u001b[0m\n\u001b[0m",
      "\u001b[0;32m<ipython-input-30-237d8c7f97e9>\u001b[0m in \u001b[0;36mmoveZeroes\u001b[0;34m(nums)\u001b[0m\n\u001b[1;32m     11\u001b[0m \u001b[0;34m\u001b[0m\u001b[0m\n\u001b[1;32m     12\u001b[0m \u001b[0;31m#     print(left, right)\u001b[0m\u001b[0;34m\u001b[0m\u001b[0;34m\u001b[0m\u001b[0;34m\u001b[0m\u001b[0m\n\u001b[0;32m---> 13\u001b[0;31m     \u001b[0mstart\u001b[0m \u001b[0;34m=\u001b[0m \u001b[0mleft\u001b[0m\u001b[0;34m\u001b[0m\u001b[0;34m\u001b[0m\u001b[0m\n\u001b[0m\u001b[1;32m     14\u001b[0m \u001b[0;34m\u001b[0m\u001b[0m\n\u001b[1;32m     15\u001b[0m     \u001b[0;32mwhile\u001b[0m \u001b[0mright\u001b[0m \u001b[0;34m<=\u001b[0m \u001b[0mn\u001b[0m\u001b[0;34m-\u001b[0m\u001b[0;36m1\u001b[0m\u001b[0;34m:\u001b[0m\u001b[0;34m\u001b[0m\u001b[0;34m\u001b[0m\u001b[0m\n",
      "\u001b[0;31mUnboundLocalError\u001b[0m: local variable 'left' referenced before assignment"
     ]
    }
   ],
   "source": [
    "moveZeroes([2,1])"
   ]
  },
  {
   "cell_type": "code",
   "execution_count": null,
   "id": "wrong-electricity",
   "metadata": {},
   "outputs": [],
   "source": []
  },
  {
   "cell_type": "code",
   "execution_count": 54,
   "id": "protective-hybrid",
   "metadata": {},
   "outputs": [],
   "source": [
    "def sortedArray(a,b):\n",
    "    \n",
    "    m = len(a)\n",
    "    n = len(b)\n",
    "    \n",
    "    left = 0\n",
    "    right = 0\n",
    "    \n",
    "    ans = []\n",
    "    \n",
    "    \n",
    "    while  right < n:\n",
    "        print(left, right)\n",
    "        \n",
    "        if a[left] < b[right]:\n",
    "            print(a[left])\n",
    "            ans.append(a[left])\n",
    "            left +=1\n",
    "        elif a[left] > b[right]:\n",
    "            print(b[right])\n",
    "            ans.append(b[right])\n",
    "            right +=1\n",
    "        else:\n",
    "            print(a[left])\n",
    "            ans.append(a[left])\n",
    "            left +=1\n",
    "            right +=1\n",
    "            \n",
    "        print(ans)\n",
    "            \n",
    "    return(ans)\n",
    "    \n",
    "    "
   ]
  },
  {
   "cell_type": "code",
   "execution_count": 55,
   "id": "continent-voltage",
   "metadata": {},
   "outputs": [
    {
     "name": "stdout",
     "output_type": "stream",
     "text": [
      "0 0\n",
      "1\n",
      "[1]\n",
      "1 0\n",
      "2\n",
      "[1, 2]\n",
      "2 1\n",
      "3\n",
      "[1, 2, 3]\n",
      "3 1\n",
      "0\n",
      "[1, 2, 3, 0]\n",
      "4 1\n",
      "0\n",
      "[1, 2, 3, 0, 0]\n",
      "5 1\n",
      "0\n",
      "[1, 2, 3, 0, 0, 0]\n",
      "6 1\n"
     ]
    },
    {
     "ename": "IndexError",
     "evalue": "list index out of range",
     "output_type": "error",
     "traceback": [
      "\u001b[0;31m---------------------------------------------------------------------------\u001b[0m",
      "\u001b[0;31mIndexError\u001b[0m                                Traceback (most recent call last)",
      "\u001b[0;32m<ipython-input-55-2205331f6955>\u001b[0m in \u001b[0;36m<module>\u001b[0;34m\u001b[0m\n\u001b[0;32m----> 1\u001b[0;31m \u001b[0msortedArray\u001b[0m\u001b[0;34m(\u001b[0m\u001b[0;34m[\u001b[0m\u001b[0;36m1\u001b[0m\u001b[0;34m,\u001b[0m\u001b[0;36m2\u001b[0m\u001b[0;34m,\u001b[0m\u001b[0;36m3\u001b[0m\u001b[0;34m,\u001b[0m\u001b[0;36m0\u001b[0m\u001b[0;34m,\u001b[0m\u001b[0;36m0\u001b[0m\u001b[0;34m,\u001b[0m\u001b[0;36m0\u001b[0m\u001b[0;34m]\u001b[0m\u001b[0;34m,\u001b[0m\u001b[0;34m[\u001b[0m\u001b[0;36m2\u001b[0m\u001b[0;34m,\u001b[0m\u001b[0;36m5\u001b[0m\u001b[0;34m,\u001b[0m\u001b[0;36m6\u001b[0m\u001b[0;34m]\u001b[0m\u001b[0;34m)\u001b[0m\u001b[0;34m\u001b[0m\u001b[0;34m\u001b[0m\u001b[0m\n\u001b[0m",
      "\u001b[0;32m<ipython-input-54-2530a95d3e5a>\u001b[0m in \u001b[0;36msortedArray\u001b[0;34m(a, b)\u001b[0m\n\u001b[1;32m     13\u001b[0m         \u001b[0mprint\u001b[0m\u001b[0;34m(\u001b[0m\u001b[0mleft\u001b[0m\u001b[0;34m,\u001b[0m \u001b[0mright\u001b[0m\u001b[0;34m)\u001b[0m\u001b[0;34m\u001b[0m\u001b[0;34m\u001b[0m\u001b[0m\n\u001b[1;32m     14\u001b[0m \u001b[0;34m\u001b[0m\u001b[0m\n\u001b[0;32m---> 15\u001b[0;31m         \u001b[0;32mif\u001b[0m \u001b[0ma\u001b[0m\u001b[0;34m[\u001b[0m\u001b[0mleft\u001b[0m\u001b[0;34m]\u001b[0m \u001b[0;34m<\u001b[0m \u001b[0mb\u001b[0m\u001b[0;34m[\u001b[0m\u001b[0mright\u001b[0m\u001b[0;34m]\u001b[0m\u001b[0;34m:\u001b[0m\u001b[0;34m\u001b[0m\u001b[0;34m\u001b[0m\u001b[0m\n\u001b[0m\u001b[1;32m     16\u001b[0m             \u001b[0mprint\u001b[0m\u001b[0;34m(\u001b[0m\u001b[0ma\u001b[0m\u001b[0;34m[\u001b[0m\u001b[0mleft\u001b[0m\u001b[0;34m]\u001b[0m\u001b[0;34m)\u001b[0m\u001b[0;34m\u001b[0m\u001b[0;34m\u001b[0m\u001b[0m\n\u001b[1;32m     17\u001b[0m             \u001b[0mans\u001b[0m\u001b[0;34m.\u001b[0m\u001b[0mappend\u001b[0m\u001b[0;34m(\u001b[0m\u001b[0ma\u001b[0m\u001b[0;34m[\u001b[0m\u001b[0mleft\u001b[0m\u001b[0;34m]\u001b[0m\u001b[0;34m)\u001b[0m\u001b[0;34m\u001b[0m\u001b[0;34m\u001b[0m\u001b[0m\n",
      "\u001b[0;31mIndexError\u001b[0m: list index out of range"
     ]
    }
   ],
   "source": [
    "sortedArray([1,2,3,0,0,0],[2,5,6])"
   ]
  },
  {
   "cell_type": "code",
   "execution_count": null,
   "id": "attractive-complaint",
   "metadata": {},
   "outputs": [],
   "source": []
  },
  {
   "cell_type": "code",
   "execution_count": 58,
   "id": "burning-estate",
   "metadata": {},
   "outputs": [],
   "source": [
    "def merge(nums1, m, nums2, n):\n",
    "    print(nums1)\n",
    "    print(nums2)\n",
    "    \n",
    "    \n",
    "    left = 0\n",
    "    right = 0\n",
    "    \n",
    "    while right < n:\n",
    "        print(nums2[right])\n",
    "        \n",
    "        if nums2[right] < nums1[left]:\n",
    "            #push the numbers by1\n",
    "            #insert the number\n",
    "            \n",
    "        \n",
    "        \n",
    "        \n",
    "        \n",
    "        \n",
    "        left +=1\n",
    "    "
   ]
  },
  {
   "cell_type": "code",
   "execution_count": 59,
   "id": "synthetic-complex",
   "metadata": {},
   "outputs": [
    {
     "name": "stdout",
     "output_type": "stream",
     "text": [
      "[1, 2, 3, 0, 0, 0]\n",
      "[2, 5, 6]\n",
      "2\n",
      "5\n",
      "6\n"
     ]
    }
   ],
   "source": [
    "merge(nums1 = [1,2,3,8,0,0,0,0], m = 4, nums2 = [2,5,6,14], n = 3)"
   ]
  },
  {
   "cell_type": "code",
   "execution_count": null,
   "id": "atmospheric-thirty",
   "metadata": {},
   "outputs": [],
   "source": []
  },
  {
   "cell_type": "code",
   "execution_count": 1,
   "id": "false-fossil",
   "metadata": {},
   "outputs": [],
   "source": [
    "def findMaxConsecutiveOnes(nums):\n",
    "    temp_max = 0\n",
    "    output = 0\n",
    "    \n",
    "    for i in range(len(nums)):\n",
    "        if nums[i] == 1:\n",
    "            temp_max +=1\n",
    "            output = max(output, temp_max)\n",
    "        else:\n",
    "            temp_max = 0\n",
    "            \n",
    "    return(output)\n",
    "    "
   ]
  },
  {
   "cell_type": "code",
   "execution_count": 3,
   "id": "personal-philip",
   "metadata": {},
   "outputs": [
    {
     "data": {
      "text/plain": [
       "3"
      ]
     },
     "execution_count": 3,
     "metadata": {},
     "output_type": "execute_result"
    }
   ],
   "source": [
    "findMaxConsecutiveOnes([1,1,0,1,1,1])"
   ]
  },
  {
   "cell_type": "code",
   "execution_count": null,
   "id": "pending-savings",
   "metadata": {},
   "outputs": [],
   "source": []
  },
  {
   "cell_type": "code",
   "execution_count": 15,
   "id": "royal-compilation",
   "metadata": {},
   "outputs": [],
   "source": [
    "def twosum(nums, target):\n",
    "    \n",
    "    nums2 = nums.copy()\n",
    "    nums2.sort()\n",
    "    \n",
    "    l,r = 0,len(nums)-1\n",
    "    \n",
    "    \n",
    "    while l<r:\n",
    "        temp_sum = nums2[l]+ nums2[r]\n",
    "        if temp_sum < target:\n",
    "            l+=1\n",
    "        elif temp_sum > target:\n",
    "            r -=1\n",
    "        else:\n",
    "            return [nums.index(nums2[l]),nums.index(nums2[r])]\n",
    "    \n",
    "    "
   ]
  },
  {
   "cell_type": "code",
   "execution_count": 16,
   "id": "golden-argentina",
   "metadata": {},
   "outputs": [
    {
     "data": {
      "text/plain": [
       "[1, 2]"
      ]
     },
     "execution_count": 16,
     "metadata": {},
     "output_type": "execute_result"
    }
   ],
   "source": [
    "twosum([3,2,4], 6)"
   ]
  },
  {
   "cell_type": "code",
   "execution_count": null,
   "id": "earned-richards",
   "metadata": {},
   "outputs": [],
   "source": []
  },
  {
   "cell_type": "code",
   "execution_count": null,
   "id": "studied-popularity",
   "metadata": {},
   "outputs": [],
   "source": []
  },
  {
   "cell_type": "code",
   "execution_count": null,
   "id": "expired-evaluation",
   "metadata": {},
   "outputs": [],
   "source": []
  },
  {
   "cell_type": "code",
   "execution_count": null,
   "id": "relevant-fireplace",
   "metadata": {},
   "outputs": [],
   "source": []
  },
  {
   "cell_type": "code",
   "execution_count": null,
   "id": "diverse-insured",
   "metadata": {},
   "outputs": [],
   "source": []
  },
  {
   "cell_type": "code",
   "execution_count": null,
   "id": "acceptable-group",
   "metadata": {},
   "outputs": [],
   "source": []
  }
 ],
 "metadata": {
  "kernelspec": {
   "display_name": "Python 3",
   "language": "python",
   "name": "python3"
  },
  "language_info": {
   "codemirror_mode": {
    "name": "ipython",
    "version": 3
   },
   "file_extension": ".py",
   "mimetype": "text/x-python",
   "name": "python",
   "nbconvert_exporter": "python",
   "pygments_lexer": "ipython3",
   "version": "3.6.12"
  }
 },
 "nbformat": 4,
 "nbformat_minor": 5
}
