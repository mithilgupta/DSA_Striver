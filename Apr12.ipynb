{
 "cells": [
  {
   "cell_type": "code",
   "execution_count": null,
   "id": "legitimate-berlin",
   "metadata": {},
   "outputs": [],
   "source": []
  },
  {
   "cell_type": "code",
   "execution_count": 5,
   "id": "available-picnic",
   "metadata": {},
   "outputs": [],
   "source": [
    "def bubblesort(nums):\n",
    "    \n",
    "    for i in range(len(nums)):\n",
    "        for j in range(0,len(nums)-i-1):\n",
    "#             print(i,j)\n",
    "            \n",
    "            \n",
    "            if nums[j] > nums[j+1]:\n",
    "                nums[j+1], nums[j] = nums[j], nums[j+1]\n",
    "    \n",
    "#         print(nums)\n",
    "        \n",
    "    return(nums)\n",
    "    "
   ]
  },
  {
   "cell_type": "code",
   "execution_count": 6,
   "id": "conceptual-company",
   "metadata": {},
   "outputs": [
    {
     "name": "stdout",
     "output_type": "stream",
     "text": [
      "[2, 4, 1, 3, 6, 13, 28]\n",
      "[2, 1, 3, 4, 6, 13, 28]\n",
      "[1, 2, 3, 4, 6, 13, 28]\n",
      "[1, 2, 3, 4, 6, 13, 28]\n",
      "[1, 2, 3, 4, 6, 13, 28]\n",
      "[1, 2, 3, 4, 6, 13, 28]\n",
      "[1, 2, 3, 4, 6, 13, 28]\n"
     ]
    },
    {
     "data": {
      "text/plain": [
       "[1, 2, 3, 4, 6, 13, 28]"
      ]
     },
     "execution_count": 6,
     "metadata": {},
     "output_type": "execute_result"
    }
   ],
   "source": [
    "bubblesort([2, 13, 4, 1, 3, 6, 28])"
   ]
  },
  {
   "cell_type": "code",
   "execution_count": null,
   "id": "helpful-crack",
   "metadata": {},
   "outputs": [],
   "source": []
  },
  {
   "cell_type": "code",
   "execution_count": 25,
   "id": "minus-replacement",
   "metadata": {},
   "outputs": [],
   "source": [
    "def correct_place(arr):\n",
    "    \n",
    "    for i in range(len(arr)-1,0,-1):\n",
    "#         print(i)\n",
    "        if arr[i] < arr[i-1]:\n",
    "            arr[i], arr[i-1] = arr[i-1], arr[i]\n",
    "    return(arr)\n",
    "\n",
    "\n",
    "def insertionsort(arr):\n",
    "    ans = []\n",
    "    for i in range(len(arr)):\n",
    "        ans.append(arr[i])\n",
    "        ans = correct_place(ans)\n",
    "        \n",
    "#         print(ans)\n",
    "    \n",
    "    return(ans)\n",
    "\n",
    "\n",
    "\n",
    "\n",
    "    \n",
    "    "
   ]
  },
  {
   "cell_type": "code",
   "execution_count": 26,
   "id": "worst-boating",
   "metadata": {},
   "outputs": [
    {
     "data": {
      "text/plain": [
       "[1, 2, 3, 4, 6, 13, 28]"
      ]
     },
     "execution_count": 26,
     "metadata": {},
     "output_type": "execute_result"
    }
   ],
   "source": [
    "insertionsort([2, 13, 4, 1, 3, 6, 28])\n",
    "\n",
    "# correct_place([9,14,15,12])"
   ]
  },
  {
   "cell_type": "code",
   "execution_count": null,
   "id": "limiting-accuracy",
   "metadata": {},
   "outputs": [],
   "source": []
  },
  {
   "cell_type": "code",
   "execution_count": 8,
   "id": "meaning-orlando",
   "metadata": {},
   "outputs": [],
   "source": [
    "\n",
    "\n",
    "def printNos(x, output):\n",
    "    \n",
    "    if x == 0:\n",
    "        return\n",
    "    \n",
    "\n",
    "    printNos(x-1, output)\n",
    "#         print(x, end = \" \")\n",
    "    output.append(x)\n",
    "        \n",
    "    \n",
    "    "
   ]
  },
  {
   "cell_type": "code",
   "execution_count": 12,
   "id": "governmental-james",
   "metadata": {},
   "outputs": [],
   "source": [
    "def helper(x,ans):\n",
    "    \n",
    "    if x == 0:\n",
    "        return\n",
    "    \n",
    "    else:\n",
    "        ans.append(x)\n",
    "        helper(x-1, ans)\n",
    "\n",
    "\n",
    "\n",
    "a = []\n",
    "\n",
    "helper(7, a) #12345\n",
    "\n",
    "return(a)"
   ]
  },
  {
   "cell_type": "code",
   "execution_count": 13,
   "id": "canadian-provision",
   "metadata": {},
   "outputs": [
    {
     "data": {
      "text/plain": [
       "[7, 6, 5, 4, 3, 2, 1]"
      ]
     },
     "execution_count": 13,
     "metadata": {},
     "output_type": "execute_result"
    }
   ],
   "source": [
    "a"
   ]
  },
  {
   "cell_type": "code",
   "execution_count": null,
   "id": "native-overhead",
   "metadata": {},
   "outputs": [],
   "source": []
  },
  {
   "cell_type": "code",
   "execution_count": 44,
   "id": "round-border",
   "metadata": {},
   "outputs": [],
   "source": [
    "def sum_n(n):\n",
    "    if n == 0:\n",
    "        return 0\n",
    "    else:\n",
    "        return(n + sum_n(n-1))"
   ]
  },
  {
   "cell_type": "code",
   "execution_count": 45,
   "id": "canadian-anaheim",
   "metadata": {},
   "outputs": [
    {
     "data": {
      "text/plain": [
       "6"
      ]
     },
     "execution_count": 45,
     "metadata": {},
     "output_type": "execute_result"
    }
   ],
   "source": [
    "sum_n(3)"
   ]
  },
  {
   "cell_type": "code",
   "execution_count": 57,
   "id": "chemical-plate",
   "metadata": {},
   "outputs": [],
   "source": [
    "output = []\n",
    "\n",
    "def reverseArray(nums):\n",
    "    \n",
    "    if len(nums) == 0:\n",
    "        return\n",
    "    else:\n",
    "#         print(nums)\n",
    "#         nums[0], nums[len(nums)-1] = nums[len(nums)-1], nums[0]\n",
    "        output.append(nums[-1])\n",
    "        reverseArray(nums[0:-1])\n",
    "        \n",
    "        \n",
    "reverseArray([1,2,3,4,5,6,7])\n",
    "output\n",
    "\n",
    "def rev_Arr(nums):\n",
    "    \n",
    "    left = 0\n",
    "    right = len(nums)-1\n",
    "    \n",
    "    while left <= right:\n",
    "        nums[left], nums[right] = nums[right], nums[left]\n",
    "        left +=1\n",
    "        right -=1\n",
    "        \n",
    "    return(nums)\n",
    "    \n",
    "\n",
    "\n",
    "        "
   ]
  },
  {
   "cell_type": "code",
   "execution_count": 58,
   "id": "radical-cemetery",
   "metadata": {},
   "outputs": [
    {
     "data": {
      "text/plain": [
       "[7, 6, 5, 4, 3, 2, 1]"
      ]
     },
     "execution_count": 58,
     "metadata": {},
     "output_type": "execute_result"
    }
   ],
   "source": [
    "rev_Arr([1,2,3,4,5,6,7])"
   ]
  },
  {
   "cell_type": "code",
   "execution_count": 51,
   "id": "classical-semiconductor",
   "metadata": {},
   "outputs": [
    {
     "data": {
      "text/plain": [
       "[7, 2, 3, 4, 5, 6, 1]"
      ]
     },
     "execution_count": 51,
     "metadata": {},
     "output_type": "execute_result"
    }
   ],
   "source": [
    "num = [1,2,3,4,5,6,7]\n",
    "\n",
    "reverseArray(num)\n",
    "num"
   ]
  },
  {
   "cell_type": "code",
   "execution_count": null,
   "id": "informed-broadcast",
   "metadata": {},
   "outputs": [],
   "source": [
    "nums[len(nums)]"
   ]
  },
  {
   "cell_type": "code",
   "execution_count": null,
   "id": "occupied-tribune",
   "metadata": {},
   "outputs": [],
   "source": []
  },
  {
   "cell_type": "code",
   "execution_count": 110,
   "id": "seasonal-melbourne",
   "metadata": {},
   "outputs": [],
   "source": [
    "def check(nums):\n",
    "    \n",
    "    n = len(nums)\n",
    "    min_idx = 0\n",
    "    \n",
    "    for i in range(len(nums)-1,-1,-1):\n",
    "        if nums[i]== min(nums):\n",
    "            min_idx = i\n",
    "            \n",
    "    print(min_idx)\n",
    "    \n",
    "    for i in range(min_idx, (min_idx+n)-1):\n",
    "        index = i%n\n",
    "        if nums[index] > nums[(index+1)%n]:\n",
    "            return False\n",
    "        \n",
    "    return True\n",
    "        \n",
    "    \n",
    "    "
   ]
  },
  {
   "cell_type": "code",
   "execution_count": 111,
   "id": "polish-scott",
   "metadata": {},
   "outputs": [
    {
     "name": "stdout",
     "output_type": "stream",
     "text": [
      "0\n"
     ]
    },
    {
     "data": {
      "text/plain": [
       "False"
      ]
     },
     "execution_count": 111,
     "metadata": {},
     "output_type": "execute_result"
    }
   ],
   "source": [
    "check([6,10,6])"
   ]
  },
  {
   "cell_type": "code",
   "execution_count": 107,
   "id": "tropical-rabbit",
   "metadata": {},
   "outputs": [
    {
     "name": "stdout",
     "output_type": "stream",
     "text": [
      "5\n",
      "4\n",
      "3\n",
      "2\n",
      "1\n",
      "0\n"
     ]
    }
   ],
   "source": [
    "\n",
    "for i in range(5,-1,-1):\n",
    "    print(i)"
   ]
  },
  {
   "cell_type": "code",
   "execution_count": null,
   "id": "hundred-spectacular",
   "metadata": {},
   "outputs": [],
   "source": []
  }
 ],
 "metadata": {
  "kernelspec": {
   "display_name": "Python 3",
   "language": "python",
   "name": "python3"
  },
  "language_info": {
   "codemirror_mode": {
    "name": "ipython",
    "version": 3
   },
   "file_extension": ".py",
   "mimetype": "text/x-python",
   "name": "python",
   "nbconvert_exporter": "python",
   "pygments_lexer": "ipython3",
   "version": "3.6.12"
  }
 },
 "nbformat": 4,
 "nbformat_minor": 5
}
