{
 "cells": [
  {
   "cell_type": "code",
   "execution_count": null,
   "id": "hungry-imperial",
   "metadata": {},
   "outputs": [],
   "source": []
  },
  {
   "cell_type": "code",
   "execution_count": 14,
   "id": "finite-lithuania",
   "metadata": {},
   "outputs": [],
   "source": [
    "def findMinSubArray(arr,s):\n",
    "    \n",
    "    \n",
    "    r = 0\n",
    "    l = 0\n",
    "    temp_sum = 0\n",
    "    while r < len(arr):\n",
    "        temp_sum +=arr[r]\n",
    "        print(arr[r], temp_sum, arr[l:r])\n",
    "        \n",
    "        if temp_sum >=s:\n",
    "            print(\"sum found\", l,r)\n",
    "    \n",
    "        while temp_sum >= s:\n",
    "            temp_sum  = temp_sum - arr[l]\n",
    "            l+=1\n",
    "            \n",
    "        \n",
    "        r+=1\n",
    "        \n",
    "    "
   ]
  },
  {
   "cell_type": "code",
   "execution_count": 15,
   "id": "south-necklace",
   "metadata": {},
   "outputs": [
    {
     "name": "stdout",
     "output_type": "stream",
     "text": [
      "3 3 []\n",
      "4 7 [3]\n",
      "1 8 [3, 4]\n",
      "sum found 0 2\n",
      "1 6 [4, 1]\n",
      "6 12 [4, 1, 1]\n",
      "sum found 1 4\n"
     ]
    }
   ],
   "source": [
    "findMinSubArray([3, 4, 1, 1, 6], s=8)"
   ]
  },
  {
   "cell_type": "code",
   "execution_count": null,
   "id": "placed-poetry",
   "metadata": {},
   "outputs": [],
   "source": []
  },
  {
   "cell_type": "code",
   "execution_count": 35,
   "id": "found-notice",
   "metadata": {},
   "outputs": [],
   "source": [
    "def longestSubarrayWithSumK(arr,k):\n",
    "    print(arr,k)\n",
    "    \n",
    "    output = 0\n",
    "    temp_sum = 0\n",
    "    l = 0\n",
    "    for r in range(len(arr)):\n",
    "        print(arr[r])\n",
    "        \n",
    "        temp_sum +=arr[r]\n",
    " \n",
    "        while temp_sum > k:\n",
    "            temp_sum -= arr[l]\n",
    "            l+=1\n",
    "            \n",
    "\n",
    "        if temp_sum == k:\n",
    "            print(\"sum found\", arr[l], arr[r], r-l+1)\n",
    "\n",
    "            output = max(output, r-l+1)\n",
    "            \n",
    "    return output\n",
    "        \n",
    "    "
   ]
  },
  {
   "cell_type": "code",
   "execution_count": 36,
   "id": "ecological-attraction",
   "metadata": {},
   "outputs": [
    {
     "name": "stdout",
     "output_type": "stream",
     "text": [
      "[-1, 0, 1, 1, -1, -1, 0, 1] 0\n",
      "-1\n",
      "0\n",
      "1\n",
      "sum found -1 1 3\n",
      "1\n",
      "sum found -1 1 0\n",
      "-1\n",
      "-1\n",
      "0\n",
      "1\n"
     ]
    },
    {
     "data": {
      "text/plain": [
       "3"
      ]
     },
     "execution_count": 36,
     "metadata": {},
     "output_type": "execute_result"
    }
   ],
   "source": [
    "longestSubarrayWithSumK(k = 0,arr = [-1, 0, 1, 1, -1, -1, 0,1])"
   ]
  },
  {
   "cell_type": "code",
   "execution_count": null,
   "id": "varied-equilibrium",
   "metadata": {},
   "outputs": [],
   "source": [
    "[-1, 0, 1, 1, -1, -1, 0, 1]\n",
    "[-1,-1, 0, 1,  0, -1,-1, 0]\n"
   ]
  },
  {
   "cell_type": "code",
   "execution_count": 43,
   "id": "linear-director",
   "metadata": {},
   "outputs": [],
   "source": [
    "def maxSubArray(nums):\n",
    "    \n",
    "    pre = []\n",
    "    post = []\n",
    "    \n",
    "    tpre = 0\n",
    "    tpost = 0\n",
    "    for i in range(len(nums)):\n",
    "        print(nums[i], nums[len(nums)-i-1])\n",
    "        \n",
    "        tpre += nums[i]\n",
    "        tpost += nums[len(nums)-i-1]\n",
    "        \n",
    "        pre.append(tpre)\n",
    "        post.append(tpost)\n",
    "        \n",
    "    print(pre)\n",
    "    print(post)\n",
    "    \n",
    "    \n",
    "        \n",
    "    "
   ]
  },
  {
   "cell_type": "code",
   "execution_count": 44,
   "id": "divided-friendly",
   "metadata": {},
   "outputs": [
    {
     "name": "stdout",
     "output_type": "stream",
     "text": [
      "-2 4\n",
      "1 -5\n",
      "-3 1\n",
      "4 2\n",
      "-1 -1\n",
      "2 4\n",
      "1 -3\n",
      "-5 1\n",
      "4 -2\n",
      "[-2, -1, -4, 0, -1, 1, 2, -3, 1]\n",
      "[4, -1, 0, 2, 1, 5, 2, 3, 1]\n"
     ]
    }
   ],
   "source": [
    "maxSubArray([-2,1,-3,4,-1,2,1,-5,4])"
   ]
  },
  {
   "cell_type": "code",
   "execution_count": null,
   "id": "considered-orlando",
   "metadata": {},
   "outputs": [],
   "source": []
  },
  {
   "cell_type": "code",
   "execution_count": 15,
   "id": "engaging-caution",
   "metadata": {},
   "outputs": [],
   "source": [
    "def maxSubArray(nums):\n",
    "\n",
    "    temp_sum = 0\n",
    "    max_sum = float('-inf')\n",
    "\n",
    "\n",
    "    for i in range(len(nums)):\n",
    "        temp_sum +=nums[i]\n",
    "\n",
    "        if temp_sum > max_sum:\n",
    "            max_sum = temp_sum\n",
    "\n",
    "        if temp_sum <0:\n",
    "            temp_sum = 0\n",
    "\n",
    "    return(max_sum)\n",
    "    "
   ]
  },
  {
   "cell_type": "code",
   "execution_count": 17,
   "id": "2d40406d-6234-4a3d-b6ae-bd42644d9e1c",
   "metadata": {},
   "outputs": [
    {
     "data": {
      "text/plain": [
       "-1"
      ]
     },
     "execution_count": 17,
     "metadata": {},
     "output_type": "execute_result"
    }
   ],
   "source": [
    "maxSubArray([-1])"
   ]
  },
  {
   "cell_type": "code",
   "execution_count": 27,
   "id": "1ae06034-8c0b-4583-bb04-717a84d89f3e",
   "metadata": {},
   "outputs": [],
   "source": [
    "def maxProfit(prices):\n",
    "\n",
    "    output = float('-inf')\n",
    "    \n",
    "    for i in range(len(prices)-1):\n",
    "        for j in range(i+1, len(prices)):\n",
    "            # print(prices[i], prices[j])\n",
    "            if (prices[j]-prices[i]) > output:\n",
    "                output = prices[j]-prices[i]\n",
    "    return(output)\n",
    "\n",
    "\n"
   ]
  },
  {
   "cell_type": "code",
   "execution_count": 28,
   "id": "de692bee-9e9a-4517-9c00-8944eb4af673",
   "metadata": {},
   "outputs": [
    {
     "data": {
      "text/plain": [
       "5"
      ]
     },
     "execution_count": 28,
     "metadata": {},
     "output_type": "execute_result"
    }
   ],
   "source": [
    "maxProfit([7,1,5,3,6,4])"
   ]
  },
  {
   "cell_type": "code",
   "execution_count": 41,
   "id": "d81a8f34-195f-4b7c-975c-83afb81c9c0a",
   "metadata": {},
   "outputs": [],
   "source": [
    "def rearrangeArray(nums):\n",
    "\n",
    "    n = len(nums)\n",
    "    x = 0\n",
    "    y = 0\n",
    "\n",
    "    output = [0]*n\n",
    "\n",
    "    for i in range(n):\n",
    "        # print(nums[i])\n",
    "\n",
    "        if nums[i] >0:\n",
    "            output[x*2]= nums[i]\n",
    "            x+=1\n",
    "        else:\n",
    "            output[y*2+1] = nums[i]\n",
    "            y+=1\n",
    "\n",
    "    return output\n",
    "    "
   ]
  },
  {
   "cell_type": "code",
   "execution_count": 42,
   "id": "6ce0ad01-62a1-4513-b2af-b24d2a378e55",
   "metadata": {},
   "outputs": [
    {
     "data": {
      "text/plain": [
       "[3, -2, 1, -5, 2, -4]"
      ]
     },
     "execution_count": 42,
     "metadata": {},
     "output_type": "execute_result"
    }
   ],
   "source": [
    "rearrangeArray([3,1,-2,-5,2,-4])"
   ]
  },
  {
   "cell_type": "code",
   "execution_count": null,
   "id": "ae437c67-9aa6-4180-90d8-0375f95c74dd",
   "metadata": {},
   "outputs": [],
   "source": []
  },
  {
   "cell_type": "code",
   "execution_count": 53,
   "id": "20fc0534-3f83-49ae-b1d5-a40711f26898",
   "metadata": {},
   "outputs": [],
   "source": [
    "def search(nums, target):\n",
    "\n",
    "    n = len(nums)\n",
    "\n",
    "    l,r = 0,n-1\n",
    "\n",
    "    # print((l+r)//2)\n",
    "\n",
    "    while r>=l:\n",
    "        mid = (l+r)//2\n",
    "\n",
    "        if nums[mid] == target:\n",
    "            return mid\n",
    "        elif nums[mid]< target:\n",
    "            l = mid+1\n",
    "        else:\n",
    "            r = mid-1\n",
    "\n",
    "    return -1\n",
    "        \n",
    "    \n",
    "    "
   ]
  },
  {
   "cell_type": "code",
   "execution_count": 54,
   "id": "7bb389df-8bb8-4439-9eb4-5f28591b3ec7",
   "metadata": {},
   "outputs": [
    {
     "data": {
      "text/plain": [
       "4"
      ]
     },
     "execution_count": 54,
     "metadata": {},
     "output_type": "execute_result"
    }
   ],
   "source": [
    "search([-1,0,3,5,9,12], 9)"
   ]
  },
  {
   "cell_type": "code",
   "execution_count": null,
   "id": "302f97e6-a76c-41f8-93eb-8f91bc5fdb45",
   "metadata": {},
   "outputs": [],
   "source": []
  },
  {
   "cell_type": "code",
   "execution_count": null,
   "id": "7dd6fb17-3c89-4fc6-a16f-16a97111febe",
   "metadata": {},
   "outputs": [],
   "source": []
  },
  {
   "cell_type": "code",
   "execution_count": null,
   "id": "36f3f4ed-6b57-4221-814f-727dd32ca038",
   "metadata": {},
   "outputs": [],
   "source": []
  },
  {
   "cell_type": "code",
   "execution_count": null,
   "id": "06bb9b66-6f72-4aa8-974a-2e8d82960ca1",
   "metadata": {},
   "outputs": [],
   "source": []
  },
  {
   "cell_type": "code",
   "execution_count": null,
   "id": "c8c4e739-56d1-4a6b-ac17-93b20ee18fad",
   "metadata": {},
   "outputs": [],
   "source": []
  },
  {
   "cell_type": "code",
   "execution_count": null,
   "id": "15b254fd-f5ec-4dd7-9922-764e8b09610d",
   "metadata": {},
   "outputs": [],
   "source": []
  },
  {
   "cell_type": "code",
   "execution_count": null,
   "id": "ef2e5a8b-ce9d-454b-9fd2-44c991717a8e",
   "metadata": {},
   "outputs": [],
   "source": []
  },
  {
   "cell_type": "code",
   "execution_count": null,
   "id": "cdd38d13-4ae7-40f3-9f5e-ae01243927a4",
   "metadata": {},
   "outputs": [],
   "source": []
  },
  {
   "cell_type": "code",
   "execution_count": null,
   "id": "a3e362da-16d2-4ef6-a121-256f353a7ab4",
   "metadata": {},
   "outputs": [],
   "source": []
  },
  {
   "cell_type": "code",
   "execution_count": null,
   "id": "a74fcfa1-71b2-4044-b980-a7db4757e351",
   "metadata": {},
   "outputs": [],
   "source": []
  },
  {
   "cell_type": "code",
   "execution_count": null,
   "id": "66f8f5b1-9b1a-4ebd-84cf-6e445ead384f",
   "metadata": {},
   "outputs": [],
   "source": []
  },
  {
   "cell_type": "code",
   "execution_count": null,
   "id": "e9e9aa9d-083d-4293-ad5b-333d840cbb5e",
   "metadata": {},
   "outputs": [],
   "source": []
  }
 ],
 "metadata": {
  "kernelspec": {
   "display_name": "Python 3 (ipykernel)",
   "language": "python",
   "name": "python3"
  },
  "language_info": {
   "codemirror_mode": {
    "name": "ipython",
    "version": 3
   },
   "file_extension": ".py",
   "mimetype": "text/x-python",
   "name": "python",
   "nbconvert_exporter": "python",
   "pygments_lexer": "ipython3",
   "version": "3.8.19"
  }
 },
 "nbformat": 4,
 "nbformat_minor": 5
}
