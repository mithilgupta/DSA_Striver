{
 "cells": [
  {
   "cell_type": "code",
   "execution_count": null,
   "id": "82319b94-360c-4d32-9c88-9349a2a0d715",
   "metadata": {},
   "outputs": [],
   "source": []
  },
  {
   "cell_type": "code",
   "execution_count": 3,
   "id": "50f5305a-2a11-490a-8687-f3a5fa55c858",
   "metadata": {},
   "outputs": [],
   "source": [
    "def binary_search(arr, x):\n",
    "\n",
    "    l = 0\n",
    "    r = len(arr)-1\n",
    "\n",
    "\n",
    "    while l<=r:\n",
    "        mid = (l+r)//2\n",
    "        print(\"mid = \", mid,arr[mid])\n",
    "        \n",
    "        if arr[mid] == x:\n",
    "            return mid\n",
    "        elif arr[mid] > x:\n",
    "            r = mid-1\n",
    "        else:\n",
    "            l = mid+1\n",
    "\n",
    "    return -1\n",
    "        \n",
    "    \n",
    "    "
   ]
  },
  {
   "cell_type": "code",
   "execution_count": 8,
   "id": "8be57db4-464e-4c53-b7c9-63b66ba15476",
   "metadata": {},
   "outputs": [
    {
     "data": {
      "text/plain": [
       "3"
      ]
     },
     "execution_count": 8,
     "metadata": {},
     "output_type": "execute_result"
    }
   ],
   "source": [
    "binary_search([2,4,6,8,10], 8)"
   ]
  },
  {
   "cell_type": "code",
   "execution_count": 30,
   "id": "9f466964-41ae-4e55-8418-d79533e03fbf",
   "metadata": {},
   "outputs": [],
   "source": [
    "def lower_bound(arr,x):\n",
    "    # Write your code here\n",
    "    l = 0\n",
    "    r = len(arr)-1\n",
    "\n",
    "    if x > arr[-1]:\n",
    "        return len(arr)\n",
    "    if x <= arr[0]:\n",
    "        return 0\n",
    "    \n",
    "\n",
    "    while l<=r:\n",
    "        mid = (l+r)//2\n",
    "\n",
    "        # print(\"mid = \", mid, arr[mid], arr[mid+1])\n",
    "\n",
    "        if arr[mid] < x and arr[mid+1]>=x:\n",
    "            return mid+1\n",
    "        elif arr[mid] < x and arr[mid+1] < x:\n",
    "                l = mid+1\n",
    "            \n",
    "        else:\n",
    "            r = mid-1\n",
    "\n",
    "    return -1\n",
    "\n"
   ]
  },
  {
   "cell_type": "code",
   "execution_count": 34,
   "id": "94eace46-aff7-464e-b697-0eea30985d8d",
   "metadata": {},
   "outputs": [
    {
     "data": {
      "text/plain": [
       "4"
      ]
     },
     "execution_count": 34,
     "metadata": {},
     "output_type": "execute_result"
    }
   ],
   "source": [
    "lower_bound([1,3,5,6], 7) #3"
   ]
  },
  {
   "cell_type": "code",
   "execution_count": null,
   "id": "987c0ca9-35ce-4303-9f6a-9c96cb3408f0",
   "metadata": {},
   "outputs": [],
   "source": [
    "# [3,4,1,2] -> \n",
    "# [3,4,2,1] ->\n",
    "\n",
    "\n"
   ]
  },
  {
   "cell_type": "code",
   "execution_count": 65,
   "id": "ffcf32bf-133c-4450-b99d-8e2363dd771f",
   "metadata": {},
   "outputs": [],
   "source": [
    "def nextPermutation(nums):\n",
    "    n = len(nums)\n",
    "    chk = 0\n",
    "\n",
    "    for i in range(0,n-1):\n",
    "        # print(nums[n-i-1])\n",
    "        if nums[n-i-1] > nums[n-i-2]:\n",
    "            nums[n-i-1], nums[n-i-2] = nums[n-i-2], nums[n-i-1]\n",
    "            chk = 1\n",
    "            break\n",
    "\n",
    "    if chk == 0:\n",
    "        nums = list(reversed(nums))\n",
    "        \n",
    "    return nums\n",
    "        \n",
    "        \n",
    "    "
   ]
  },
  {
   "cell_type": "code",
   "execution_count": 70,
   "id": "40a9e8f5-a648-43e5-8f40-48babb2a0b93",
   "metadata": {},
   "outputs": [
    {
     "data": {
      "text/plain": [
       "[1, 2, 3]"
      ]
     },
     "execution_count": 70,
     "metadata": {},
     "output_type": "execute_result"
    }
   ],
   "source": [
    "nextPermutation([3, 2, 1])"
   ]
  },
  {
   "cell_type": "code",
   "execution_count": null,
   "id": "d6470e9e-6e6c-4d3b-bb7a-8b83b595dd7c",
   "metadata": {},
   "outputs": [],
   "source": []
  },
  {
   "cell_type": "code",
   "execution_count": 81,
   "id": "2b27851d-e289-45dc-a47f-6ec8df72280d",
   "metadata": {},
   "outputs": [],
   "source": [
    "def superiorElements(a):\n",
    "\n",
    "    tmax = a[len(a)-1]\n",
    "    output = []\n",
    "    output.append(a[len(a)-1])\n",
    "    \n",
    "    for i in range(len(a)-2,-1,-1):\n",
    "        # print(a[i])\n",
    "        if a[i] > tmax:\n",
    "            output.append(a[i])\n",
    "            tmax = a[i]\n",
    "    return output\n",
    "    \n",
    "    "
   ]
  },
  {
   "cell_type": "code",
   "execution_count": 82,
   "id": "9456b3dc-2ba7-4780-9e28-83f9874e1c63",
   "metadata": {},
   "outputs": [
    {
     "name": "stdout",
     "output_type": "stream",
     "text": [
      "3\n",
      "2\n",
      "1\n"
     ]
    },
    {
     "data": {
      "text/plain": [
       "[2, 3]"
      ]
     },
     "execution_count": 82,
     "metadata": {},
     "output_type": "execute_result"
    }
   ],
   "source": [
    "superiorElements([1, 2, 3, 2])"
   ]
  },
  {
   "cell_type": "code",
   "execution_count": null,
   "id": "7272181b-2b70-4e80-aa0a-69ba3297c730",
   "metadata": {},
   "outputs": [],
   "source": []
  },
  {
   "cell_type": "code",
   "execution_count": 103,
   "id": "b624fb97-2795-42d5-aedd-0dd40b9648b6",
   "metadata": {},
   "outputs": [],
   "source": [
    "def longestSuccessiveElements(a):\n",
    "    a.sort()\n",
    "\n",
    "    print(a)\n",
    "    temp_len = 1\n",
    "    output = 0\n",
    "\n",
    "    for i in range(1, len(a)):\n",
    "        # print(a[i])\n",
    "        if a[i] - a[i-1] <= 1:\n",
    "            temp_len +=1\n",
    "            output = max(output,temp_len)\n",
    "        else:\n",
    "            temp_len = 1\n",
    "    return output\n",
    "    \n",
    "    "
   ]
  },
  {
   "cell_type": "code",
   "execution_count": 104,
   "id": "46f3474a-14fc-45ba-a8db-cde42ca23298",
   "metadata": {},
   "outputs": [
    {
     "name": "stdout",
     "output_type": "stream",
     "text": [
      "[1, 2, 2, 3, 4, 5, 6, 6, 8, 8, 9, 12, 12, 14, 15, 16, 16, 17, 21, 26, 29]\n"
     ]
    },
    {
     "data": {
      "text/plain": [
       "8"
      ]
     },
     "execution_count": 104,
     "metadata": {},
     "output_type": "execute_result"
    }
   ],
   "source": [
    "longestSuccessiveElements([15, 6, 2, 1, 16, 4, 2, 29 ,9, 12, 8 ,5, 14, 21, 8, 12, 17, 16, 6, 26, 3 ])"
   ]
  },
  {
   "cell_type": "code",
   "execution_count": null,
   "id": "3073af99-cdd3-45ea-a057-8a1c0d59ea79",
   "metadata": {},
   "outputs": [],
   "source": [
    "21\n",
    "15, 6, 2, 1, 16, 4, 2, 29 ,9, 12, 8 ,5, 14, 21, 8, 12, 17, 16, 6, 26, 3 "
   ]
  },
  {
   "cell_type": "code",
   "execution_count": null,
   "id": "2de4468a-19ee-46f2-9d5f-68a681187894",
   "metadata": {},
   "outputs": [],
   "source": []
  },
  {
   "cell_type": "code",
   "execution_count": null,
   "id": "de491bab-7ce1-4d3a-a97d-5a4eb0633465",
   "metadata": {},
   "outputs": [],
   "source": []
  },
  {
   "cell_type": "code",
   "execution_count": null,
   "id": "4c90d17b-8cfc-4d77-bb12-94be59587267",
   "metadata": {},
   "outputs": [],
   "source": []
  },
  {
   "cell_type": "code",
   "execution_count": null,
   "id": "bf0f14e4-00e4-4011-8bf5-5796ddd4b415",
   "metadata": {},
   "outputs": [],
   "source": []
  },
  {
   "cell_type": "code",
   "execution_count": null,
   "id": "40512839-6392-48b7-a59b-a7d04de0f0de",
   "metadata": {},
   "outputs": [],
   "source": []
  },
  {
   "cell_type": "code",
   "execution_count": null,
   "id": "9a07d276-1968-4654-9d8f-f1f9e6581042",
   "metadata": {},
   "outputs": [],
   "source": []
  },
  {
   "cell_type": "code",
   "execution_count": null,
   "id": "7f719db3-6d60-4e0e-8457-38cd45cd2995",
   "metadata": {},
   "outputs": [],
   "source": []
  }
 ],
 "metadata": {
  "kernelspec": {
   "display_name": "Python 3 (ipykernel)",
   "language": "python",
   "name": "python3"
  },
  "language_info": {
   "codemirror_mode": {
    "name": "ipython",
    "version": 3
   },
   "file_extension": ".py",
   "mimetype": "text/x-python",
   "name": "python",
   "nbconvert_exporter": "python",
   "pygments_lexer": "ipython3",
   "version": "3.8.19"
  }
 },
 "nbformat": 4,
 "nbformat_minor": 5
}
