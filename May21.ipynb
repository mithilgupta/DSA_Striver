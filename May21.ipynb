{
 "cells": [
  {
   "cell_type": "code",
   "execution_count": null,
   "id": "55f39511",
   "metadata": {},
   "outputs": [],
   "source": []
  },
  {
   "cell_type": "markdown",
   "id": "6411242d",
   "metadata": {},
   "source": [
    "# Largest subarray with 0 sum"
   ]
  },
  {
   "cell_type": "code",
   "execution_count": null,
   "id": "544fc497",
   "metadata": {},
   "outputs": [],
   "source": []
  },
  {
   "cell_type": "code",
   "execution_count": 12,
   "id": "8b3078bb",
   "metadata": {},
   "outputs": [],
   "source": [
    "def maxLen(arr,n):\n",
    "    pre = [0]*n\n",
    "\n",
    "    for i in range(n):\n",
    "        if i == 0:\n",
    "            pre[0] = arr[i]\n",
    "        else:\n",
    "            temp = arr[i]+pre[i-1]\n",
    "            pre[i] = temp\n",
    "\n",
    "    print(pre)\n",
    "\n",
    "\n",
    "    dic = {}\n",
    "    max_ = 0\n",
    "\n",
    "    for j in range(len(pre)):\n",
    "        if pre[j] == 0:\n",
    "            max_ = max(max_, j)\n",
    "        if pre[j] not in dic:\n",
    "            dic[pre[j]] = j\n",
    "        else:\n",
    "            print(j, pre[j])\n",
    "            temp_dif = j-dic[pre[j]]\n",
    "            print(temp_dif)\n",
    "            max_ = max(max_, temp_dif)\n",
    "            print(\"\\n\")\n",
    "\n",
    "            \n",
    "        \n",
    "\n",
    "    print(dic)\n",
    "    return max_ \n",
    "    "
   ]
  },
  {
   "cell_type": "code",
   "execution_count": 1,
   "id": "d4f7bda8",
   "metadata": {},
   "outputs": [],
   "source": [
    "def maxLen(arr,n):\n",
    "    pre = [0]*n\n",
    "\n",
    "    for i in range(n):\n",
    "        if i == 0:\n",
    "            pre[0] = arr[i]\n",
    "        else:\n",
    "            temp = arr[i]+pre[i-1]\n",
    "            pre[i] = temp\n",
    "\n",
    "    print(pre)\n",
    "\n",
    "\n",
    "    dic = {}\n",
    "    max_ = 0\n",
    "\n",
    "    for j in range(len(pre)):\n",
    "        if pre[j] == 0:\n",
    "            max_ = max(max_, j)\n",
    "        elif pre[j] not in dic:\n",
    "            dic[pre[j]] = j\n",
    "        else:\n",
    "            print(j, pre[j])\n",
    "            temp_dif = j-dic[pre[j]]\n",
    "            print(temp_dif)\n",
    "            max_ = max(max_, temp_dif)\n",
    "            print(\"\\n\")\n",
    "\n",
    "            \n",
    "        \n",
    "\n",
    "    print(dic)\n",
    "    return max_ +1\n",
    "    "
   ]
  },
  {
   "cell_type": "code",
   "execution_count": 2,
   "id": "d7e385fd",
   "metadata": {},
   "outputs": [
    {
     "name": "stdout",
     "output_type": "stream",
     "text": [
      "[-1, 0, -1, 0]\n",
      "2 -1\n",
      "2\n",
      "\n",
      "\n",
      "{-1: 0}\n"
     ]
    },
    {
     "data": {
      "text/plain": [
       "3"
      ]
     },
     "execution_count": 2,
     "metadata": {},
     "output_type": "execute_result"
    }
   ],
   "source": [
    "maxLen([-1,1,-1,1],4)"
   ]
  },
  {
   "cell_type": "code",
   "execution_count": null,
   "id": "9b476a91",
   "metadata": {},
   "outputs": [],
   "source": []
  },
  {
   "cell_type": "code",
   "execution_count": null,
   "id": "bb9ee443",
   "metadata": {},
   "outputs": [],
   "source": [
    "def maxLen(arr,n):\n",
    "\n",
    "    sum = 0\n",
    "\n",
    "    for i in range(n):\n",
    "        sum += arr[i]\n",
    "        \n",
    "    \n",
    "    "
   ]
  },
  {
   "cell_type": "code",
   "execution_count": null,
   "id": "d1391934",
   "metadata": {},
   "outputs": [],
   "source": [
    "maxLen([15,-2,2,-8,1,7,10,23], 8)"
   ]
  },
  {
   "cell_type": "code",
   "execution_count": null,
   "id": "13ff8c19",
   "metadata": {},
   "outputs": [],
   "source": []
  },
  {
   "cell_type": "code",
   "execution_count": null,
   "id": "19643ca8",
   "metadata": {},
   "outputs": [],
   "source": []
  },
  {
   "cell_type": "code",
   "execution_count": null,
   "id": "2758b23b",
   "metadata": {},
   "outputs": [],
   "source": []
  },
  {
   "cell_type": "code",
   "execution_count": null,
   "id": "e4ab967a",
   "metadata": {},
   "outputs": [],
   "source": []
  },
  {
   "cell_type": "code",
   "execution_count": null,
   "id": "c7523d53",
   "metadata": {},
   "outputs": [],
   "source": []
  },
  {
   "cell_type": "code",
   "execution_count": null,
   "id": "8cc0c001",
   "metadata": {},
   "outputs": [],
   "source": []
  },
  {
   "cell_type": "code",
   "execution_count": null,
   "id": "0ed57eed",
   "metadata": {},
   "outputs": [],
   "source": []
  },
  {
   "cell_type": "code",
   "execution_count": null,
   "id": "3d726ead",
   "metadata": {},
   "outputs": [],
   "source": []
  },
  {
   "cell_type": "code",
   "execution_count": null,
   "id": "8061d275",
   "metadata": {},
   "outputs": [],
   "source": []
  },
  {
   "cell_type": "code",
   "execution_count": null,
   "id": "867868bb",
   "metadata": {},
   "outputs": [],
   "source": []
  },
  {
   "cell_type": "code",
   "execution_count": null,
   "id": "73df3848",
   "metadata": {},
   "outputs": [],
   "source": []
  },
  {
   "cell_type": "code",
   "execution_count": null,
   "id": "4e27ad8b",
   "metadata": {},
   "outputs": [],
   "source": []
  },
  {
   "cell_type": "code",
   "execution_count": null,
   "id": "02028e19",
   "metadata": {},
   "outputs": [],
   "source": []
  }
 ],
 "metadata": {
  "kernelspec": {
   "display_name": "Python 3 (ipykernel)",
   "language": "python",
   "name": "python3"
  },
  "language_info": {
   "codemirror_mode": {
    "name": "ipython",
    "version": 3
   },
   "file_extension": ".py",
   "mimetype": "text/x-python",
   "name": "python",
   "nbconvert_exporter": "python",
   "pygments_lexer": "ipython3",
   "version": "3.8.18"
  }
 },
 "nbformat": 4,
 "nbformat_minor": 5
}
