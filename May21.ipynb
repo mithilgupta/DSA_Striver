{
 "cells": [
  {
   "cell_type": "code",
   "execution_count": null,
   "id": "d1d63fd5-f9b2-4d4d-98d6-adf09b044a03",
   "metadata": {},
   "outputs": [],
   "source": []
  },
  {
   "cell_type": "markdown",
   "id": "8a99b685-9e9b-400b-82d1-9a92f90e2eb3",
   "metadata": {},
   "source": [
    "# Largest subarray with 0 sum"
   ]
  },
  {
   "cell_type": "code",
   "execution_count": null,
   "id": "20e3baf6-bad6-4a26-ac23-5556bd7173d9",
   "metadata": {},
   "outputs": [],
   "source": []
  },
  {
   "cell_type": "code",
   "execution_count": 12,
   "id": "88b2c31b-dae5-441b-afbf-324c6a052756",
   "metadata": {},
   "outputs": [],
   "source": [
    "def maxLen(arr,n):\n",
    "    pre = [0]*n\n",
    "\n",
    "    for i in range(n):\n",
    "        if i == 0:\n",
    "            pre[0] = arr[i]\n",
    "        else:\n",
    "            temp = arr[i]+pre[i-1]\n",
    "            pre[i] = temp\n",
    "\n",
    "    print(pre)\n",
    "\n",
    "\n",
    "    dic = {}\n",
    "    max_ = 0\n",
    "\n",
    "    for j in range(len(pre)):\n",
    "        if pre[j] not in dic:\n",
    "            dic[pre[j]] = j\n",
    "        else:\n",
    "            print(j, pre[j])\n",
    "            temp_dif = j-dic[pre[j]]\n",
    "            print(temp_dif)\n",
    "            max_ = max(max_, temp_dif)\n",
    "            print(\"\\n\")\n",
    "\n",
    "\n",
    "    print(dic)\n",
    "    return max_ \n",
    "    "
   ]
  },
  {
   "cell_type": "code",
   "execution_count": 13,
   "id": "ffcab559-0f4d-44d3-b27d-7a16bbbc2f98",
   "metadata": {},
   "outputs": [
    {
     "name": "stdout",
     "output_type": "stream",
     "text": [
      "[-1, 0, -1, 0]\n",
      "2 -1\n",
      "2\n",
      "\n",
      "\n",
      "3 0\n",
      "2\n",
      "\n",
      "\n",
      "{-1: 0, 0: 1}\n"
     ]
    },
    {
     "data": {
      "text/plain": [
       "2"
      ]
     },
     "execution_count": 13,
     "metadata": {},
     "output_type": "execute_result"
    }
   ],
   "source": [
    "maxLen([-1,1,-1,1],4)"
   ]
  },
  {
   "cell_type": "code",
   "execution_count": null,
   "id": "64789895-77bf-4e56-b615-c17c9fb005dc",
   "metadata": {},
   "outputs": [],
   "source": []
  },
  {
   "cell_type": "code",
   "execution_count": null,
   "id": "173977a0-0ee3-4c43-8c29-6073df0cbd98",
   "metadata": {},
   "outputs": [],
   "source": [
    "def maxLen(arr,n):\n",
    "\n",
    "    sum = 0\n",
    "\n",
    "    for i in range(n):\n",
    "        sum += arr[i]\n",
    "        \n",
    "    \n",
    "    "
   ]
  },
  {
   "cell_type": "code",
   "execution_count": null,
   "id": "978f76e8-e072-44c2-9457-06e69f8bcca0",
   "metadata": {},
   "outputs": [],
   "source": [
    "maxLen([15,-2,2,-8,1,7,10,23], 8)"
   ]
  },
  {
   "cell_type": "code",
   "execution_count": null,
   "id": "44171884-0e20-40b5-80f8-694ce4bd1537",
   "metadata": {},
   "outputs": [],
   "source": []
  },
  {
   "cell_type": "code",
   "execution_count": null,
   "id": "25f95e76-f7d6-41c7-bc7b-eb2deaf459ad",
   "metadata": {},
   "outputs": [],
   "source": []
  },
  {
   "cell_type": "code",
   "execution_count": null,
   "id": "1921d916-b192-4fa2-9613-fcf8eabb1dfe",
   "metadata": {},
   "outputs": [],
   "source": []
  },
  {
   "cell_type": "code",
   "execution_count": null,
   "id": "c78e5e00-5e49-473d-a0a6-6313ff497312",
   "metadata": {},
   "outputs": [],
   "source": []
  },
  {
   "cell_type": "code",
   "execution_count": null,
   "id": "6a3a2622-0e02-4029-ad9d-d6b85456526e",
   "metadata": {},
   "outputs": [],
   "source": []
  },
  {
   "cell_type": "code",
   "execution_count": null,
   "id": "bee01c6d-1a7a-4559-91b7-b11c797319ae",
   "metadata": {},
   "outputs": [],
   "source": []
  },
  {
   "cell_type": "code",
   "execution_count": null,
   "id": "1448adc5-3902-47ff-a973-fab2d9aa24f3",
   "metadata": {},
   "outputs": [],
   "source": []
  },
  {
   "cell_type": "code",
   "execution_count": null,
   "id": "e94a03ab-fc13-4cb5-a1d1-b15e5c198ac6",
   "metadata": {},
   "outputs": [],
   "source": []
  },
  {
   "cell_type": "code",
   "execution_count": null,
   "id": "0d75647c-8963-4797-941b-3100de49eede",
   "metadata": {},
   "outputs": [],
   "source": []
  },
  {
   "cell_type": "code",
   "execution_count": null,
   "id": "1c2d4aef-30e1-409d-9541-b2b3e48aedc2",
   "metadata": {},
   "outputs": [],
   "source": []
  },
  {
   "cell_type": "code",
   "execution_count": null,
   "id": "46789334-4966-41d0-9e30-382580023ede",
   "metadata": {},
   "outputs": [],
   "source": []
  },
  {
   "cell_type": "code",
   "execution_count": null,
   "id": "72405141-1d95-44fd-9009-b91a9aad585a",
   "metadata": {},
   "outputs": [],
   "source": []
  },
  {
   "cell_type": "code",
   "execution_count": null,
   "id": "1a5367c5-7d9d-4cec-a346-67c474c45fb4",
   "metadata": {},
   "outputs": [],
   "source": []
  }
 ],
 "metadata": {
  "kernelspec": {
   "display_name": "Python 3 (ipykernel)",
   "language": "python",
   "name": "python3"
  },
  "language_info": {
   "codemirror_mode": {
    "name": "ipython",
    "version": 3
   },
   "file_extension": ".py",
   "mimetype": "text/x-python",
   "name": "python",
   "nbconvert_exporter": "python",
   "pygments_lexer": "ipython3",
   "version": "3.8.19"
  }
 },
 "nbformat": 4,
 "nbformat_minor": 5
}
